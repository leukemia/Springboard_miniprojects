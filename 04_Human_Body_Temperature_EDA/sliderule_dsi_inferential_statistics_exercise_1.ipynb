{
 "cells": [
  {
   "cell_type": "markdown",
   "metadata": {},
   "source": [
    "# What is the True Normal Human Body Temperature? \n",
    "\n",
    "#### Background\n",
    "\n",
    "The mean normal body temperature was held to be 37$^{\\circ}$C or 98.6$^{\\circ}$F for more than 120 years since it was first conceptualized and reported by Carl Wunderlich in a famous 1868 book. But, is this value statistically correct?"
   ]
  },
  {
   "cell_type": "markdown",
   "metadata": {},
   "source": [
    "<h3>Exercises</h3>\n",
    "\n",
    "<p>In this exercise, you will analyze a dataset of human body temperatures and employ the concepts of hypothesis testing, confidence intervals, and statistical significance.</p>\n",
    "\n",
    "<p>Answer the following questions <b>in this notebook below and submit to your Github account</b>.</p> \n",
    "\n",
    "<ol>\n",
    "<li>  Is the distribution of body temperatures normal? \n",
    "    <ul>\n",
    "    <li> Although this is not a requirement for the Central Limit Theorem to hold (read the introduction on Wikipedia's page about the CLT carefully: https://en.wikipedia.org/wiki/Central_limit_theorem), it gives us some peace of mind that the population may also be normally distributed if we assume that this sample is representative of the population.\n",
    "    <li> Think about the way you're going to check for the normality of the distribution. Graphical methods are usually used first, but there are also other ways: https://en.wikipedia.org/wiki/Normality_test\n",
    "    </ul>\n",
    "<li>  Is the sample size large? Are the observations independent?\n",
    "    <ul>\n",
    "    <li> Remember that this is a condition for the Central Limit Theorem, and hence the statistical tests we are using, to apply.\n",
    "    </ul>\n",
    "<li>  Is the true population mean really 98.6 degrees F?\n",
    "    <ul>\n",
    "    <li> First, try a bootstrap hypothesis test.\n",
    "    <li> Now, let's try frequentist statistical testing. Would you use a one-sample or two-sample test? Why?\n",
    "    <li> In this situation, is it appropriate to use the $t$ or $z$ statistic? \n",
    "    <li> Now try using the other test. How is the result be different? Why?\n",
    "    </ul>\n",
    "<li>  Draw a small sample of size 10 from the data and repeat both frequentist tests. \n",
    "    <ul>\n",
    "    <li> Which one is the correct one to use? \n",
    "    <li> What do you notice? What does this tell you about the difference in application of the $t$ and $z$ statistic?\n",
    "    </ul>\n",
    "<li>  At what temperature should we consider someone's temperature to be \"abnormal\"?\n",
    "    <ul>\n",
    "    <li> As in the previous example, try calculating everything using the boostrap approach, as well as the frequentist approach.\n",
    "    <li> Start by computing the margin of error and confidence interval. When calculating the confidence interval, keep in mind that you should use the appropriate formula for one draw, and not N draws.\n",
    "    </ul>\n",
    "<li>  Is there a significant difference between males and females in normal temperature?\n",
    "    <ul>\n",
    "    <li> What testing approach did you use and why?\n",
    "    <li> Write a story with your conclusion in the context of the original problem.\n",
    "    </ul>\n",
    "</ol>\n",
    "\n",
    "You can include written notes in notebook cells using Markdown: \n",
    "   - In the control panel at the top, choose Cell > Cell Type > Markdown\n",
    "   - Markdown syntax: http://nestacms.com/docs/creating-content/markdown-cheat-sheet\n",
    "\n",
    "#### Resources\n",
    "\n",
    "+ Information and data sources: http://www.amstat.org/publications/jse/datasets/normtemp.txt, http://www.amstat.org/publications/jse/jse_data_archive.htm\n",
    "+ Markdown syntax: http://nestacms.com/docs/creating-content/markdown-cheat-sheet\n",
    "\n",
    "****"
   ]
  },
  {
   "cell_type": "code",
   "execution_count": 19,
   "metadata": {},
   "outputs": [],
   "source": [
    "import pandas as pd\n",
    "import matplotlib.pyplot as plt\n",
    "import numpy as np\n",
    "import seaborn as sns\n",
    "sns.set()\n",
    "from scipy import stats\n",
    "\n",
    "df = pd.read_csv('data/human_body_temperature.csv')"
   ]
  },
  {
   "cell_type": "code",
   "execution_count": 5,
   "metadata": {},
   "outputs": [
    {
     "data": {
      "text/html": [
       "<div>\n",
       "<style scoped>\n",
       "    .dataframe tbody tr th:only-of-type {\n",
       "        vertical-align: middle;\n",
       "    }\n",
       "\n",
       "    .dataframe tbody tr th {\n",
       "        vertical-align: top;\n",
       "    }\n",
       "\n",
       "    .dataframe thead th {\n",
       "        text-align: right;\n",
       "    }\n",
       "</style>\n",
       "<table border=\"1\" class=\"dataframe\">\n",
       "  <thead>\n",
       "    <tr style=\"text-align: right;\">\n",
       "      <th></th>\n",
       "      <th>temperature</th>\n",
       "      <th>gender</th>\n",
       "      <th>heart_rate</th>\n",
       "    </tr>\n",
       "  </thead>\n",
       "  <tbody>\n",
       "    <tr>\n",
       "      <th>0</th>\n",
       "      <td>99.3</td>\n",
       "      <td>F</td>\n",
       "      <td>68.0</td>\n",
       "    </tr>\n",
       "    <tr>\n",
       "      <th>1</th>\n",
       "      <td>98.4</td>\n",
       "      <td>F</td>\n",
       "      <td>81.0</td>\n",
       "    </tr>\n",
       "    <tr>\n",
       "      <th>2</th>\n",
       "      <td>97.8</td>\n",
       "      <td>M</td>\n",
       "      <td>73.0</td>\n",
       "    </tr>\n",
       "    <tr>\n",
       "      <th>3</th>\n",
       "      <td>99.2</td>\n",
       "      <td>F</td>\n",
       "      <td>66.0</td>\n",
       "    </tr>\n",
       "    <tr>\n",
       "      <th>4</th>\n",
       "      <td>98.0</td>\n",
       "      <td>F</td>\n",
       "      <td>73.0</td>\n",
       "    </tr>\n",
       "  </tbody>\n",
       "</table>\n",
       "</div>"
      ],
      "text/plain": [
       "   temperature gender  heart_rate\n",
       "0         99.3      F        68.0\n",
       "1         98.4      F        81.0\n",
       "2         97.8      M        73.0\n",
       "3         99.2      F        66.0\n",
       "4         98.0      F        73.0"
      ]
     },
     "execution_count": 5,
     "metadata": {},
     "output_type": "execute_result"
    }
   ],
   "source": [
    "# Your work here.\n",
    "df.head()"
   ]
  },
  {
   "cell_type": "code",
   "execution_count": 3,
   "metadata": {},
   "outputs": [
    {
     "name": "stdout",
     "output_type": "stream",
     "text": [
      "<class 'pandas.core.frame.DataFrame'>\n",
      "RangeIndex: 130 entries, 0 to 129\n",
      "Data columns (total 3 columns):\n",
      "temperature    130 non-null float64\n",
      "gender         130 non-null object\n",
      "heart_rate     130 non-null float64\n",
      "dtypes: float64(2), object(1)\n",
      "memory usage: 3.1+ KB\n"
     ]
    }
   ],
   "source": [
    "df.info()"
   ]
  },
  {
   "cell_type": "code",
   "execution_count": 4,
   "metadata": {},
   "outputs": [
    {
     "data": {
      "text/plain": [
       "(130, 3)"
      ]
     },
     "execution_count": 4,
     "metadata": {},
     "output_type": "execute_result"
    }
   ],
   "source": [
    "df.shape"
   ]
  },
  {
   "cell_type": "markdown",
   "metadata": {},
   "source": [
    "__Question 1:__\n",
    "\n",
    "__*Is the distribution of body temperatures normal?*__\n",
    "\n",
    "    Although this is not a requirement for the Central Limit Theorem to hold (read the introduction on Wikipedia's page about the CLT carefully: https://en.wikipedia.org/wiki/Central_limit_theorem), it gives us some peace of mind that the population may also be normally distributed if we assume that this sample is representative of the population.\n",
    "    Think about the way you're going to check for the normality of the distribution. Graphical methods are usually used first, but there are also other ways: https://en.wikipedia.org/wiki/Normality_test "
   ]
  },
  {
   "cell_type": "code",
   "execution_count": 16,
   "metadata": {},
   "outputs": [
    {
     "data": {
      "image/png": "[encoded data removed]",
      "text/plain": [
       "<Figure size 432x288 with 1 Axes>"
      ]
     },
     "metadata": {
      "needs_background": "light"
     },
     "output_type": "display_data"
    }
   ],
   "source": [
    "temp = df['temperature']\n",
    "_ = plt.hist(temp, density=True)\n",
    "_ = plt.xlabel('body temperature')\n",
    "_ = plt.ylabel('')\n",
    "plt.show()"
   ]
  },
  {
   "cell_type": "markdown",
   "metadata": {},
   "source": [
    "The above histogram shows the data is not so normal. We need to do some for EDA."
   ]
  },
  {
   "cell_type": "code",
   "execution_count": 17,
   "metadata": {},
   "outputs": [
    {
     "data": {
      "text/plain": [
       "<matplotlib.axes._subplots.AxesSubplot at 0x1a3c25eac88>"
      ]
     },
     "execution_count": 17,
     "metadata": {},
     "output_type": "execute_result"
    },
    {
     "data": {
      "image/png": "[encoded data removed]",
      "text/plain": [
       "<Figure size 432x288 with 1 Axes>"
      ]
     },
     "metadata": {
      "needs_background": "light"
     },
     "output_type": "display_data"
    }
   ],
   "source": [
    "sns.distplot(temp, hist=True)"
   ]
  },
  {
   "cell_type": "markdown",
   "metadata": {},
   "source": [
    "The above plot shows that the data is closer to normal than the first histogram showed."
   ]
  },
  {
   "cell_type": "code",
   "execution_count": 20,
   "metadata": {},
   "outputs": [
    {
     "data": {
      "text/plain": [
       "NormaltestResult(statistic=2.703801433319203, pvalue=0.2587479863488254)"
      ]
     },
     "execution_count": 20,
     "metadata": {},
     "output_type": "execute_result"
    }
   ],
   "source": [
    "stats.normaltest(temp)"
   ]
  },
  {
   "cell_type": "markdown",
   "metadata": {},
   "source": [
    "The normal test above shows that the p-value is 0.26 which is much more than 0.05. So we fail to reject null hypothesis. Thus the temperature data is normal. But let's do some more analysis."
   ]
  },
  {
   "cell_type": "code",
   "execution_count": 28,
   "metadata": {},
   "outputs": [],
   "source": [
    "# define empirical cumulative distribution function to plot \n",
    "# sample vs theoretical normal cumulative distributions\n",
    "def ecdf(data):\n",
    "    \"\"\"Compute ECDF for a one-dimensional array of measurements.\"\"\"\n",
    "    # Number of data points: n\n",
    "    n = len(data)\n",
    "\n",
    "    # x-data for the ECDF: x\n",
    "    x = np.sort(data)\n",
    "\n",
    "    # y-data for the ECDF: y\n",
    "    y = np.arange(1, n+1) / n\n",
    "\n",
    "    return x, y"
   ]
  },
  {
   "cell_type": "code",
   "execution_count": 40,
   "metadata": {},
   "outputs": [
    {
     "name": "stdout",
     "output_type": "stream",
     "text": [
      "Sample mean is: 98.24923076923078\n"
     ]
    },
    {
     "data": {
      "image/png": "[encoded data removed]",
      "text/plain": [
       "<Figure size 432x288 with 1 Axes>"
      ]
     },
     "metadata": {},
     "output_type": "display_data"
    }
   ],
   "source": [
    "# mean and standard deviation of temperature from sample data.\n",
    "mean_temp = np.mean(temp)\n",
    "std_temp = np.std(temp)\n",
    "print(\"Sample mean is:\", mean_temp)\n",
    "# Theoretical normal samples\n",
    "theoretical_samples = np.random.normal(mean_temp, std_temp, size=10000)\n",
    "\n",
    "# Compute ecdf for sample data\n",
    "x,y = ecdf(temp)\n",
    "\n",
    "# Compute ecdf for theoretical sample\n",
    "x_theor, y_theor = ecdf(theoretical_samples)\n",
    "\n",
    "# plot\n",
    "_ = plt.plot(x, y, marker='.', linestyle='none', color='red')\n",
    "_ = plt.plot(x_theor, y_theor, color='blue')\n",
    "_ = plt.xlabel('body temperature')\n",
    "_ = plt.ylabel('ECDF')\n",
    "_ = plt.legend(['sample CDF', 'theoretical normal CDF'])\n",
    "plt.margins(0.02)\n",
    "plt.show()"
   ]
  },
  {
   "cell_type": "markdown",
   "metadata": {},
   "source": [
    "Above plot shows that sample ECDF (red dots) closely follow the theoretical normal ECDF (blue solid line). This further supports the data being roughtly normally distributed. "
   ]
  },
  {
   "cell_type": "code",
   "execution_count": 30,
   "metadata": {},
   "outputs": [
    {
     "name": "stdout",
     "output_type": "stream",
     "text": [
      "We expect to get 95% of data between 96.8177295225769 and 99.68073201588466\n",
      "We got 95% of data between [96.7225 99.4775]\n"
     ]
    }
   ],
   "source": [
    "print('We expect to get 95% of data between', mean_temp - 1.96*std_temp, 'and', mean_temp + 1.96*std_temp)\n",
    "print('We got 95% of data between', np.percentile(temp, [2.5, 97.5]))"
   ]
  },
  {
   "cell_type": "markdown",
   "metadata": {},
   "source": [
    "The above analysis also proves that the temperature data is pretty close to normal distribution.\n",
    "\n",
    "__Answer 1:__ Yes the distribution of body temperatures is normal.\n",
    "\n"
   ]
  },
  {
   "cell_type": "markdown",
   "metadata": {},
   "source": [
    "__Question 2:__\n",
    "__*Is the sample size large? Are the observations independent?*__\n",
    "\n",
    "    Remember that this is a condition for the Central Limit Theorem, and hence the statistical tests we are using, to apply. "
   ]
  },
  {
   "cell_type": "code",
   "execution_count": 33,
   "metadata": {},
   "outputs": [
    {
     "data": {
      "text/html": [
       "<div>\n",
       "<style scoped>\n",
       "    .dataframe tbody tr th:only-of-type {\n",
       "        vertical-align: middle;\n",
       "    }\n",
       "\n",
       "    .dataframe tbody tr th {\n",
       "        vertical-align: top;\n",
       "    }\n",
       "\n",
       "    .dataframe thead th {\n",
       "        text-align: right;\n",
       "    }\n",
       "</style>\n",
       "<table border=\"1\" class=\"dataframe\">\n",
       "  <thead>\n",
       "    <tr style=\"text-align: right;\">\n",
       "      <th></th>\n",
       "      <th>temperature</th>\n",
       "      <th>gender</th>\n",
       "      <th>heart_rate</th>\n",
       "    </tr>\n",
       "  </thead>\n",
       "  <tbody>\n",
       "    <tr>\n",
       "      <th>0</th>\n",
       "      <td>99.3</td>\n",
       "      <td>F</td>\n",
       "      <td>68.0</td>\n",
       "    </tr>\n",
       "    <tr>\n",
       "      <th>1</th>\n",
       "      <td>98.4</td>\n",
       "      <td>F</td>\n",
       "      <td>81.0</td>\n",
       "    </tr>\n",
       "    <tr>\n",
       "      <th>2</th>\n",
       "      <td>97.8</td>\n",
       "      <td>M</td>\n",
       "      <td>73.0</td>\n",
       "    </tr>\n",
       "    <tr>\n",
       "      <th>3</th>\n",
       "      <td>99.2</td>\n",
       "      <td>F</td>\n",
       "      <td>66.0</td>\n",
       "    </tr>\n",
       "    <tr>\n",
       "      <th>4</th>\n",
       "      <td>98.0</td>\n",
       "      <td>F</td>\n",
       "      <td>73.0</td>\n",
       "    </tr>\n",
       "  </tbody>\n",
       "</table>\n",
       "</div>"
      ],
      "text/plain": [
       "   temperature gender  heart_rate\n",
       "0         99.3      F        68.0\n",
       "1         98.4      F        81.0\n",
       "2         97.8      M        73.0\n",
       "3         99.2      F        66.0\n",
       "4         98.0      F        73.0"
      ]
     },
     "execution_count": 33,
     "metadata": {},
     "output_type": "execute_result"
    }
   ],
   "source": [
    "df.head()"
   ]
  },
  {
   "cell_type": "code",
   "execution_count": 34,
   "metadata": {},
   "outputs": [
    {
     "data": {
      "text/plain": [
       "(130, 3)"
      ]
     },
     "execution_count": 34,
     "metadata": {},
     "output_type": "execute_result"
    }
   ],
   "source": [
    "df.shape"
   ]
  },
  {
   "cell_type": "markdown",
   "metadata": {},
   "source": [
    "__Answer 2:__\n",
    "Central Limit Theorem requires sample size to be at least 30 and we have 130 observations. So we can say that the sample size is large enough to satisfy this condition.\n",
    "For the samples to be independent (if sampled without replacement) if it is not more than 10% of the population. Definitely the sample is way less than 10% of population. Each person is different from other, so in this case we can assume that the temperature and heart_rate readings are independent."
   ]
  },
  {
   "cell_type": "markdown",
   "metadata": {},
   "source": [
    "__Question 3:__\n",
    "Is the true population mean really 98.6 degrees F?\n",
    "\n",
    "__Question 3.1:__ First, try a bootstrap hypothesis test.\n",
    "\n",
    "__Question 3.2:__ Now, let's try frequentist statistical testing. Would you use a one-sample or two-sample test? Why?\n",
    "\n",
    "__Question 3.3:__ In this situation, is it appropriate to use the 𝑡 or 𝑧 statistic?\n",
    "\n",
    "__Question 3.4:__ Now try using the other test. How is the result be different? Why? "
   ]
  },
  {
   "cell_type": "code",
   "execution_count": 37,
   "metadata": {},
   "outputs": [],
   "source": [
    "# Bootstrap replicate function\n",
    "def bootstrap_replicate_1d(data, func):\n",
    "    '''Generate bootstrap replicate of one dimensional data.'''\n",
    "    bs_sample = np.random.choice(data, size=len(data))\n",
    "    return func(bs_sample)\n",
    "\n",
    "def draw_bs_reps(data, func, size=1):\n",
    "    \"\"\"Draw bootstrap replicates.\"\"\"\n",
    "\n",
    "    # Initialize array of replicates: bs_replicates\n",
    "    bs_replicates = np.empty(size)\n",
    "\n",
    "    # Generate replicates\n",
    "    for i in range(size):\n",
    "        bs_replicates[i] = bootstrap_replicate_1d(data, func)\n",
    "\n",
    "    return bs_replicates"
   ]
  },
  {
   "cell_type": "code",
   "execution_count": 39,
   "metadata": {},
   "outputs": [
    {
     "name": "stdout",
     "output_type": "stream",
     "text": [
      "95% confidence interval for bootstrap replicates is:  [98.12615385 98.37540385]\n"
     ]
    },
    {
     "data": {
      "image/png": "[encoded data removed]",
      "text/plain": [
       "<Figure size 432x288 with 1 Axes>"
      ]
     },
     "metadata": {},
     "output_type": "display_data"
    }
   ],
   "source": [
    "mean = 98.6\n",
    "\n",
    "# take 10,000 bootstrap replicates of the mean\n",
    "bs_replicates = draw_bs_reps(temp, np.mean, 10000)\n",
    "\n",
    "# calculate 95% confidence interval\n",
    "confidence_interval = np.percentile(bs_replicates, [2.5, 97.5])\n",
    "\n",
    "print(\"95% confidence interval for bootstrap replicates is: \", confidence_interval)\n",
    "\n",
    "# Let's try plotting\n",
    "_ = plt.hist(bs_replicates, bins=50)\n",
    "_ = plt.xlabel('Bootstrap replicates of mean body temperature')\n",
    "_ = plt.ylabel('probability distribution function')\n",
    "plt.show()"
   ]
  },
  {
   "cell_type": "markdown",
   "metadata": {},
   "source": [
    "__Answer 3.1:__\n",
    "The above analysis suggests that the probability of mean body temperature being 98.6 is very low.\n",
    "\n",
    "__Answer 3.2:__\n",
    "For this case we will use one-sample test because we are comparing mean value of one sample dataset with a one value. For two sample test we compare means of two different samples."
   ]
  },
  {
   "cell_type": "markdown",
   "metadata": {},
   "source": [
    "__Answer 3.3:__\n",
    "\n",
    "H0: true mean population temperature = 98.6 F\n",
    "\n",
    "Ha: true mean population temperature ≠ 98.6 F\n",
    "\n",
    "Here we will use t-statistic because although we know the population mean temp, but we don't know the population standard deviation of the body temperature.\n"
   ]
  },
  {
   "cell_type": "code",
   "execution_count": 41,
   "metadata": {},
   "outputs": [
    {
     "data": {
      "text/plain": [
       "-5.4548232923645195"
      ]
     },
     "execution_count": 41,
     "metadata": {},
     "output_type": "execute_result"
    }
   ],
   "source": [
    "t, p = stats.ttest_1samp(temp, 98.6)\n",
    "t"
   ]
  },
  {
   "cell_type": "code",
   "execution_count": 42,
   "metadata": {},
   "outputs": [
    {
     "data": {
      "text/plain": [
       "2.4106320415561276e-07"
      ]
     },
     "execution_count": 42,
     "metadata": {},
     "output_type": "execute_result"
    }
   ],
   "source": [
    "p"
   ]
  },
  {
   "cell_type": "code",
   "execution_count": 43,
   "metadata": {},
   "outputs": [
    {
     "name": "stdout",
     "output_type": "stream",
     "text": [
      "The t-statistic is 5.45 with a p-value of 2.4106320415561276e-07\n"
     ]
    }
   ],
   "source": [
    "print(\"The t-statistic is %.2f with a p-value of %s\" % (abs(t), p))"
   ]
  },
  {
   "cell_type": "markdown",
   "metadata": {},
   "source": [
    "The p-value is very low and it suggests that the probability of observing a human body temperature of 98.6 or larger given our null hypothesis is true, is extremely unlikely. Thus we can reject null hypothesis in favor of alternate hypothesis."
   ]
  },
  {
   "cell_type": "code",
   "execution_count": 65,
   "metadata": {},
   "outputs": [
    {
     "name": "stdout",
     "output_type": "stream",
     "text": [
      "The z-statistic is 5.48 with a p-value of 0.000000\n"
     ]
    }
   ],
   "source": [
    "# trying z-statistic\n",
    "mean_temp = np.mean(temp)\n",
    "std_temp = np.std(temp)\n",
    "s = std_temp/np.sqrt(len(temp))\n",
    "z_statistic = ((mean_temp - 98.6)/s)\n",
    "\n",
    "p = 1-stats.norm.cdf(abs(z_statistic))\n",
    "\n",
    "print(\"The z-statistic is %.2f with a p-value of %f\" % (abs(z_statistic), p))"
   ]
  },
  {
   "cell_type": "markdown",
   "metadata": {},
   "source": [
    "__Answer 3.4:__ Both z and t tests are similar and both giving similar test statistic and extremely low p-value. Both suggest that it is unlikely that mean body temperature is equal to 98.6 F."
   ]
  },
  {
   "cell_type": "markdown",
   "metadata": {},
   "source": [
    "__Question 4:__ Draw a small sample of size 10 from the data and repeat both frequentist tests.\n",
    "\n",
    "__Question 4.1:__ Which one is the correct one to use?\n",
    "    \n",
    "__Question 4.2:__ What do you notice? What does this tell you about the difference in application of the 𝑡 and 𝑧 statistic? "
   ]
  },
  {
   "cell_type": "code",
   "execution_count": 72,
   "metadata": {},
   "outputs": [
    {
     "data": {
      "text/plain": [
       "array([98. , 98.8, 97.8, 97. , 97.7, 98.3, 98. , 97.9, 99. , 98. ])"
      ]
     },
     "execution_count": 72,
     "metadata": {},
     "output_type": "execute_result"
    }
   ],
   "source": [
    "# Draw a small sample of size 10\n",
    "np.random.seed(42)\n",
    "sample = np.random.choice(temp, size=10)\n",
    "sample"
   ]
  },
  {
   "cell_type": "code",
   "execution_count": 73,
   "metadata": {},
   "outputs": [
    {
     "name": "stdout",
     "output_type": "stream",
     "text": [
      "The t-statistic is 3.09 with a p-value of 0.012857704604809363\n",
      "The z-statistic is 3.26 with a p-value of 0.000556\n"
     ]
    }
   ],
   "source": [
    "\n",
    "# t-test is more appropriate to use for small sample size\n",
    "t, p = stats.ttest_1samp(sample, 98.6)\n",
    "\n",
    "# z-test\n",
    "mean = np.mean(sample)\n",
    "stdev = np.std(sample)\n",
    "ss = stdev/np.sqrt(len(sample))\n",
    "z = (mean - 98.6)/ss\n",
    "pz = 1 - stats.norm.cdf(abs(z))\n",
    "print(\"The t-statistic is %.2f with a p-value of %s\" % (abs(t), p))\n",
    "print(\"The z-statistic is %.2f with a p-value of %f\" % (abs(z), pz))"
   ]
  },
  {
   "cell_type": "markdown",
   "metadata": {},
   "source": [
    "__Answer 4.1:__ From above analysis, both tests reach the same conclusion. So in this case both seem to be OK to use.\n",
    "\n",
    "__Answer 4.2:__ I didn't notice anything striking. The only thing is p value from ztest is much lower, hence it would still be significant if significance level was 0.01, where as ttest would fail."
   ]
  },
  {
   "cell_type": "markdown",
   "metadata": {},
   "source": [
    "__Question 5:__ At what temperature should we consider someone's temperature to be \"abnormal\"?\n",
    "\n",
    "As in the previous example, try calculating everything using the boostrap approach, as well as the frequentist approach.\n",
    "    Start by computing the margin of error and confidence interval. When calculating the confidence interval, keep in mind that you should use the appropriate formula for one draw, and not N draws. "
   ]
  },
  {
   "cell_type": "code",
   "execution_count": 78,
   "metadata": {},
   "outputs": [
    {
     "name": "stdout",
     "output_type": "stream",
     "text": [
      "95% confidence interval for bootstrap replicates is:  [98.12692308 98.37538462]\n",
      "99% confidence interval for bootstrap replicates is:  [98.08538077 98.41846154]\n",
      "Margin of error for 95% CI is:  0.12230769230770022\n",
      "Margin of error for 99% CI is:  0.1638500000000107\n"
     ]
    }
   ],
   "source": [
    "mean = 98.6\n",
    "\n",
    "# take 10,000 bootstrap replicates of the mean\n",
    "bs_replicates = draw_bs_reps(temp, np.mean, 10000)\n",
    "\n",
    "# calculate 95% confidence interval\n",
    "confidence_interval = np.percentile(bs_replicates, [2.5, 97.5])\n",
    "\n",
    "# Actually confidence interval = mean +/- margin of error, so\n",
    "margin_of_error = np.mean(temp) - confidence_interval[0]\n",
    "\n",
    "print(\"95% confidence interval for bootstrap replicates is: \", confidence_interval)\n",
    "print(\"99% confidence interval for bootstrap replicates is: \", np.percentile(bs_replicates, [0.5, 99.5]))\n",
    "print(\"Margin of error for 95% CI is: \", margin_of_error)\n",
    "print(\"Margin of error for 99% CI is: \", (np.mean(temp) - np.percentile(bs_replicates, [0.5, 99.5])[0]))"
   ]
  },
  {
   "cell_type": "code",
   "execution_count": 75,
   "metadata": {},
   "outputs": [
    {
     "name": "stdout",
     "output_type": "stream",
     "text": [
      "The t-statistic is 5.45 with a p-value of 2.4106320415561276e-07\n",
      "The z-statistic is 5.48 with a p-value of 0.000000\n"
     ]
    }
   ],
   "source": [
    "# Now by frequentist approach\n",
    "t, p = stats.ttest_1samp(temp, 98.6)\n",
    "mean_temp = np.mean(temp)\n",
    "std_temp = np.std(temp)\n",
    "\n",
    "se = std_temp/np.sqrt(len(temp))\n",
    "\n",
    "z = (mean_temp - 98.6)/se\n",
    "pz = 1 - stats.norm.cdf(abs(z))\n",
    "\n",
    "print(\"The t-statistic is %.2f with a p-value of %s\" % (abs(t), p))\n",
    "print(\"The z-statistic is %.2f with a p-value of %f\" % (abs(z), pz))"
   ]
  },
  {
   "cell_type": "markdown",
   "metadata": {},
   "source": [
    "__Answer 5:__ Both bootstrap and frequentist approaches suggest that probability of getting mean body temperature of 98.6 is almost none. Thus we reject null hypothesis in favor of alternate hypothesis that mean body temperature is not 98.6.\n",
    "So based on these analyses, body temperatures below 98.12 or above 98.38 should be considered abnormal."
   ]
  },
  {
   "cell_type": "markdown",
   "metadata": {},
   "source": [
    "__Question 6:__ Is there a significant difference between males and females in normal temperature?\n",
    "\n",
    "    What testing approach did you use and why?\n",
    "    Write a story with your conclusion in the context of the original problem. "
   ]
  },
  {
   "cell_type": "markdown",
   "metadata": {},
   "source": [
    "I would use two-sample hypothesis testing approach. But first let's do some EDA."
   ]
  },
  {
   "cell_type": "code",
   "execution_count": 83,
   "metadata": {},
   "outputs": [
    {
     "data": {
      "text/plain": [
       "<matplotlib.legend.Legend at 0x1a3c28c50f0>"
      ]
     },
     "execution_count": 83,
     "metadata": {},
     "output_type": "execute_result"
    },
    {
     "data": {
      "image/png": "[encoded data removed]",
      "text/plain": [
       "<Figure size 432x288 with 1 Axes>"
      ]
     },
     "metadata": {},
     "output_type": "display_data"
    }
   ],
   "source": [
    "fbt = df.temperature[df.gender == 'F']\n",
    "mbt = df.temperature[df.gender == 'M']\n",
    "\n",
    "sns.distplot(fbt, hist=True, label='female')\n",
    "sns.distplot(mbt, hist=True, label='male')\n",
    "plt.legend()"
   ]
  },
  {
   "cell_type": "markdown",
   "metadata": {},
   "source": [
    "__*H0: male mean body temperature = female mean body temperature*__\n",
    "\n",
    "__*Ha: male mean body temperature ≠ female mean body temperature*__\n",
    "\n",
    "significance level = 0.05"
   ]
  },
  {
   "cell_type": "code",
   "execution_count": 84,
   "metadata": {},
   "outputs": [
    {
     "name": "stdout",
     "output_type": "stream",
     "text": [
      "The t-statistic is 2.29 with a p-value of 0.02393188312239561\n"
     ]
    }
   ],
   "source": [
    "t, p = stats.ttest_ind(fbt, mbt)\n",
    "print(\"The t-statistic is %.2f with a p-value of %s\" % (abs(t), p))"
   ]
  },
  {
   "cell_type": "markdown",
   "metadata": {},
   "source": [
    "__Answer 6:__ Since the p value (0.024) is less than the significance level 0.05, we reject null hypothesis. Thus male and female mean body temperatures are different."
   ]
  },
  {
   "cell_type": "markdown",
   "metadata": {},
   "source": [
    "__Conclusion__ \n",
    "\n",
    "It is widely accepted that the mean human body temperature is 98.6 degrees Fahrenheit. However, with my analysis with the data provided, I conclude that mean body temperature is highly unlikely to be 98.6. Furthermore, mean body temperatures of males and females are also significantly different."
   ]
  },
  {
   "cell_type": "code",
   "execution_count": null,
   "metadata": {},
   "outputs": [],
   "source": []
  },
  {
   "cell_type": "code",
   "execution_count": null,
   "metadata": {},
   "outputs": [],
   "source": []
  },
  {
   "cell_type": "code",
   "execution_count": null,
   "metadata": {},
   "outputs": [],
   "source": []
  },
  {
   "cell_type": "code",
   "execution_count": null,
   "metadata": {},
   "outputs": [],
   "source": []
  },
  {
   "cell_type": "code",
   "execution_count": null,
   "metadata": {},
   "outputs": [],
   "source": []
  },
  {
   "cell_type": "code",
   "execution_count": null,
   "metadata": {},
   "outputs": [],
   "source": []
  },
  {
   "cell_type": "code",
   "execution_count": null,
   "metadata": {},
   "outputs": [],
   "source": []
  },
  {
   "cell_type": "code",
   "execution_count": null,
   "metadata": {},
   "outputs": [],
   "source": []
  },
  {
   "cell_type": "code",
   "execution_count": null,
   "metadata": {},
   "outputs": [],
   "source": []
  },
  {
   "cell_type": "code",
   "execution_count": null,
   "metadata": {},
   "outputs": [],
   "source": []
  },
  {
   "cell_type": "code",
   "execution_count": null,
   "metadata": {},
   "outputs": [],
   "source": []
  }
 ],
 "metadata": {
  "kernelspec": {
   "display_name": "Python 3",
   "language": "python",
   "name": "python3"
  },
  "language_info": {
   "codemirror_mode": {
    "name": "ipython",
    "version": 3
   },
   "file_extension": ".py",
   "mimetype": "text/x-python",
   "name": "python",
   "nbconvert_exporter": "python",
   "pygments_lexer": "ipython3",
   "version": "3.7.1"
  }
 },
 "nbformat": 4,
 "nbformat_minor": 1
}
