{
 "cells": [
  {
   "cell_type": "code",
   "execution_count": 1,
   "metadata": {},
   "outputs": [],
   "source": [
    "import pandas as pd\n",
    "import numpy as np\n",
    "import matplotlib.pyplot as plt\n",
    "%matplotlib inline\n",
    "plt.style.use('ggplot')\n",
    "import seaborn as sns\n",
    "import datetime\n",
    "import warnings \n",
    "warnings.filterwarnings(\"ignore\")"
   ]
  },
  {
   "cell_type": "markdown",
   "metadata": {},
   "source": [
    "## Part 1 - Exploratory data analysis\n",
    "\n",
    "The attached logins.json file contains (simulated) timestamps of user logins in a particular\n",
    "geographic location. Aggregate these login counts based on 15minute\n",
    "time intervals, and\n",
    "visualize and describe the resulting time series of login counts in ways that best characterize the\n",
    "underlying patterns of the demand. Please report/illustrate important features of the demand,\n",
    "such as daily cycles. If there are data quality issues, please report them."
   ]
  },
  {
   "cell_type": "code",
   "execution_count": 2,
   "metadata": {},
   "outputs": [
    {
     "data": {
      "text/html": [
       "<div>\n",
       "<style scoped>\n",
       "    .dataframe tbody tr th:only-of-type {\n",
       "        vertical-align: middle;\n",
       "    }\n",
       "\n",
       "    .dataframe tbody tr th {\n",
       "        vertical-align: top;\n",
       "    }\n",
       "\n",
       "    .dataframe thead th {\n",
       "        text-align: right;\n",
       "    }\n",
       "</style>\n",
       "<table border=\"1\" class=\"dataframe\">\n",
       "  <thead>\n",
       "    <tr style=\"text-align: right;\">\n",
       "      <th></th>\n",
       "      <th>login_time</th>\n",
       "    </tr>\n",
       "  </thead>\n",
       "  <tbody>\n",
       "    <tr>\n",
       "      <td>0</td>\n",
       "      <td>1970-01-01 20:13:18</td>\n",
       "    </tr>\n",
       "    <tr>\n",
       "      <td>1</td>\n",
       "      <td>1970-01-01 20:16:10</td>\n",
       "    </tr>\n",
       "    <tr>\n",
       "      <td>2</td>\n",
       "      <td>1970-01-01 20:16:37</td>\n",
       "    </tr>\n",
       "    <tr>\n",
       "      <td>3</td>\n",
       "      <td>1970-01-01 20:16:36</td>\n",
       "    </tr>\n",
       "    <tr>\n",
       "      <td>4</td>\n",
       "      <td>1970-01-01 20:26:21</td>\n",
       "    </tr>\n",
       "  </tbody>\n",
       "</table>\n",
       "</div>"
      ],
      "text/plain": [
       "           login_time\n",
       "0 1970-01-01 20:13:18\n",
       "1 1970-01-01 20:16:10\n",
       "2 1970-01-01 20:16:37\n",
       "3 1970-01-01 20:16:36\n",
       "4 1970-01-01 20:26:21"
      ]
     },
     "execution_count": 2,
     "metadata": {},
     "output_type": "execute_result"
    }
   ],
   "source": [
    "# Read the json file into pandas dataframe\n",
    "logins = pd.read_json('logins.json')\n",
    "\n",
    "# check the dataframe\n",
    "logins.head()"
   ]
  },
  {
   "cell_type": "code",
   "execution_count": 3,
   "metadata": {},
   "outputs": [
    {
     "data": {
      "text/plain": [
       "(93142, 1)"
      ]
     },
     "execution_count": 3,
     "metadata": {},
     "output_type": "execute_result"
    }
   ],
   "source": [
    "# Check the shape of the dataframe\n",
    "logins.shape"
   ]
  },
  {
   "cell_type": "code",
   "execution_count": 4,
   "metadata": {},
   "outputs": [
    {
     "data": {
      "text/html": [
       "<div>\n",
       "<style scoped>\n",
       "    .dataframe tbody tr th:only-of-type {\n",
       "        vertical-align: middle;\n",
       "    }\n",
       "\n",
       "    .dataframe tbody tr th {\n",
       "        vertical-align: top;\n",
       "    }\n",
       "\n",
       "    .dataframe thead th {\n",
       "        text-align: right;\n",
       "    }\n",
       "</style>\n",
       "<table border=\"1\" class=\"dataframe\">\n",
       "  <thead>\n",
       "    <tr style=\"text-align: right;\">\n",
       "      <th></th>\n",
       "      <th>login_time</th>\n",
       "    </tr>\n",
       "  </thead>\n",
       "  <tbody>\n",
       "    <tr>\n",
       "      <td>count</td>\n",
       "      <td>93142</td>\n",
       "    </tr>\n",
       "    <tr>\n",
       "      <td>unique</td>\n",
       "      <td>92265</td>\n",
       "    </tr>\n",
       "    <tr>\n",
       "      <td>top</td>\n",
       "      <td>1970-02-12 11:16:53</td>\n",
       "    </tr>\n",
       "    <tr>\n",
       "      <td>freq</td>\n",
       "      <td>3</td>\n",
       "    </tr>\n",
       "    <tr>\n",
       "      <td>first</td>\n",
       "      <td>1970-01-01 20:12:16</td>\n",
       "    </tr>\n",
       "    <tr>\n",
       "      <td>last</td>\n",
       "      <td>1970-04-13 18:57:38</td>\n",
       "    </tr>\n",
       "  </tbody>\n",
       "</table>\n",
       "</div>"
      ],
      "text/plain": [
       "                 login_time\n",
       "count                 93142\n",
       "unique                92265\n",
       "top     1970-02-12 11:16:53\n",
       "freq                      3\n",
       "first   1970-01-01 20:12:16\n",
       "last    1970-04-13 18:57:38"
      ]
     },
     "execution_count": 4,
     "metadata": {},
     "output_type": "execute_result"
    }
   ],
   "source": [
    "logins.describe()"
   ]
  },
  {
   "cell_type": "code",
   "execution_count": 5,
   "metadata": {},
   "outputs": [
    {
     "data": {
      "text/plain": [
       "login_time    0\n",
       "dtype: int64"
      ]
     },
     "execution_count": 5,
     "metadata": {},
     "output_type": "execute_result"
    }
   ],
   "source": [
    "# check if there is any null values\n",
    "logins.isna().sum()"
   ]
  },
  {
   "cell_type": "code",
   "execution_count": 6,
   "metadata": {},
   "outputs": [
    {
     "name": "stdout",
     "output_type": "stream",
     "text": [
      "                     login_time_counts\n",
      "login_time                            \n",
      "1970-01-01 20:00:00                  2\n",
      "1970-01-01 20:15:00                  6\n",
      "1970-01-01 20:30:00                  9\n",
      "1970-01-01 20:45:00                  7\n",
      "1970-01-01 21:00:00                  1\n",
      "                     login_time_counts\n",
      "login_time                            \n",
      "1970-04-13 17:45:00                  5\n",
      "1970-04-13 18:00:00                  5\n",
      "1970-04-13 18:15:00                  2\n",
      "1970-04-13 18:30:00                  7\n",
      "1970-04-13 18:45:00                  6\n"
     ]
    }
   ],
   "source": [
    "# Aggregate the logins based on 15 min time intervals\n",
    "logins_15mins = logins.resample('15T', on='login_time').count()\n",
    "\n",
    "\n",
    "# assign the column name\n",
    "logins_15mins.columns = ['login_time_counts']\n",
    "\n",
    "# check the dataframe\n",
    "print(logins_15mins.head())\n",
    "print(logins_15mins.tail())"
   ]
  },
  {
   "cell_type": "code",
   "execution_count": 7,
   "metadata": {},
   "outputs": [
    {
     "data": {
      "text/html": [
       "<div>\n",
       "<style scoped>\n",
       "    .dataframe tbody tr th:only-of-type {\n",
       "        vertical-align: middle;\n",
       "    }\n",
       "\n",
       "    .dataframe tbody tr th {\n",
       "        vertical-align: top;\n",
       "    }\n",
       "\n",
       "    .dataframe thead th {\n",
       "        text-align: right;\n",
       "    }\n",
       "</style>\n",
       "<table border=\"1\" class=\"dataframe\">\n",
       "  <thead>\n",
       "    <tr style=\"text-align: right;\">\n",
       "      <th></th>\n",
       "      <th>login_time_counts</th>\n",
       "    </tr>\n",
       "    <tr>\n",
       "      <th>login_time</th>\n",
       "      <th></th>\n",
       "    </tr>\n",
       "  </thead>\n",
       "  <tbody>\n",
       "    <tr>\n",
       "      <td>1970-03-01 04:30:00</td>\n",
       "      <td>73</td>\n",
       "    </tr>\n",
       "    <tr>\n",
       "      <td>1970-04-04 05:30:00</td>\n",
       "      <td>66</td>\n",
       "    </tr>\n",
       "    <tr>\n",
       "      <td>1970-04-04 01:30:00</td>\n",
       "      <td>64</td>\n",
       "    </tr>\n",
       "    <tr>\n",
       "      <td>1970-04-04 01:15:00</td>\n",
       "      <td>63</td>\n",
       "    </tr>\n",
       "    <tr>\n",
       "      <td>1970-04-01 23:30:00</td>\n",
       "      <td>60</td>\n",
       "    </tr>\n",
       "    <tr>\n",
       "      <td>...</td>\n",
       "      <td>...</td>\n",
       "    </tr>\n",
       "    <tr>\n",
       "      <td>1970-01-11 09:45:00</td>\n",
       "      <td>0</td>\n",
       "    </tr>\n",
       "    <tr>\n",
       "      <td>1970-02-16 08:15:00</td>\n",
       "      <td>0</td>\n",
       "    </tr>\n",
       "    <tr>\n",
       "      <td>1970-01-27 08:30:00</td>\n",
       "      <td>0</td>\n",
       "    </tr>\n",
       "    <tr>\n",
       "      <td>1970-01-27 08:15:00</td>\n",
       "      <td>0</td>\n",
       "    </tr>\n",
       "    <tr>\n",
       "      <td>1970-02-11 06:45:00</td>\n",
       "      <td>0</td>\n",
       "    </tr>\n",
       "  </tbody>\n",
       "</table>\n",
       "<p>9788 rows × 1 columns</p>\n",
       "</div>"
      ],
      "text/plain": [
       "                     login_time_counts\n",
       "login_time                            \n",
       "1970-03-01 04:30:00                 73\n",
       "1970-04-04 05:30:00                 66\n",
       "1970-04-04 01:30:00                 64\n",
       "1970-04-04 01:15:00                 63\n",
       "1970-04-01 23:30:00                 60\n",
       "...                                ...\n",
       "1970-01-11 09:45:00                  0\n",
       "1970-02-16 08:15:00                  0\n",
       "1970-01-27 08:30:00                  0\n",
       "1970-01-27 08:15:00                  0\n",
       "1970-02-11 06:45:00                  0\n",
       "\n",
       "[9788 rows x 1 columns]"
      ]
     },
     "execution_count": 7,
     "metadata": {},
     "output_type": "execute_result"
    }
   ],
   "source": [
    "logins_15mins.sort_values(by='login_time_counts', ascending=False)"
   ]
  },
  {
   "cell_type": "code",
   "execution_count": 8,
   "metadata": {},
   "outputs": [
    {
     "data": {
      "text/plain": [
       "<matplotlib.axes._subplots.AxesSubplot at 0x1255e0240>"
      ]
     },
     "execution_count": 8,
     "metadata": {},
     "output_type": "execute_result"
    },
    {
     "data": {
      "image/png": "[encoded data removed]",
      "text/plain": [
       "<Figure size 432x288 with 1 Axes>"
      ]
     },
     "metadata": {
      "needs_background": "light"
     },
     "output_type": "display_data"
    }
   ],
   "source": [
    "logins_15mins.plot()"
   ]
  },
  {
   "cell_type": "code",
   "execution_count": 9,
   "metadata": {},
   "outputs": [
    {
     "data": {
      "text/plain": [
       "<matplotlib.axes._subplots.AxesSubplot at 0x1249b8cf8>"
      ]
     },
     "execution_count": 9,
     "metadata": {},
     "output_type": "execute_result"
    },
    {
     "data": {
      "image/png": "[encoded data removed]",
      "text/plain": [
       "<Figure size 432x288 with 1 Axes>"
      ]
     },
     "metadata": {
      "needs_background": "light"
     },
     "output_type": "display_data"
    }
   ],
   "source": [
    "# taking a sample for better visualization\n",
    "logins_15mins.head(400).plot()"
   ]
  },
  {
   "cell_type": "markdown",
   "metadata": {},
   "source": [
    "##### The plots above for 15 min time interval show that there is a fluctuation on login times for different times of the day."
   ]
  },
  {
   "cell_type": "code",
   "execution_count": 10,
   "metadata": {},
   "outputs": [
    {
     "data": {
      "text/html": [
       "<div>\n",
       "<style scoped>\n",
       "    .dataframe tbody tr th:only-of-type {\n",
       "        vertical-align: middle;\n",
       "    }\n",
       "\n",
       "    .dataframe tbody tr th {\n",
       "        vertical-align: top;\n",
       "    }\n",
       "\n",
       "    .dataframe thead th {\n",
       "        text-align: right;\n",
       "    }\n",
       "</style>\n",
       "<table border=\"1\" class=\"dataframe\">\n",
       "  <thead>\n",
       "    <tr style=\"text-align: right;\">\n",
       "      <th></th>\n",
       "      <th>login_time_counts</th>\n",
       "    </tr>\n",
       "    <tr>\n",
       "      <th>login_time</th>\n",
       "      <th></th>\n",
       "    </tr>\n",
       "  </thead>\n",
       "  <tbody>\n",
       "    <tr>\n",
       "      <td>1970-04-13 17:45:00</td>\n",
       "      <td>5</td>\n",
       "    </tr>\n",
       "    <tr>\n",
       "      <td>1970-04-13 18:00:00</td>\n",
       "      <td>5</td>\n",
       "    </tr>\n",
       "    <tr>\n",
       "      <td>1970-04-13 18:15:00</td>\n",
       "      <td>2</td>\n",
       "    </tr>\n",
       "    <tr>\n",
       "      <td>1970-04-13 18:30:00</td>\n",
       "      <td>7</td>\n",
       "    </tr>\n",
       "    <tr>\n",
       "      <td>1970-04-13 18:45:00</td>\n",
       "      <td>6</td>\n",
       "    </tr>\n",
       "  </tbody>\n",
       "</table>\n",
       "</div>"
      ],
      "text/plain": [
       "                     login_time_counts\n",
       "login_time                            \n",
       "1970-04-13 17:45:00                  5\n",
       "1970-04-13 18:00:00                  5\n",
       "1970-04-13 18:15:00                  2\n",
       "1970-04-13 18:30:00                  7\n",
       "1970-04-13 18:45:00                  6"
      ]
     },
     "execution_count": 10,
     "metadata": {},
     "output_type": "execute_result"
    }
   ],
   "source": [
    "logins_15mins.tail()"
   ]
  },
  {
   "cell_type": "code",
   "execution_count": 11,
   "metadata": {},
   "outputs": [
    {
     "data": {
      "text/plain": [
       "DatetimeIndex(['1970-01-01 20:00:00', '1970-01-01 20:15:00',\n",
       "               '1970-01-01 20:30:00', '1970-01-01 20:45:00',\n",
       "               '1970-01-01 21:00:00', '1970-01-01 21:15:00',\n",
       "               '1970-01-01 21:30:00', '1970-01-01 21:45:00',\n",
       "               '1970-01-01 22:00:00', '1970-01-01 22:15:00',\n",
       "               ...\n",
       "               '1970-04-13 16:30:00', '1970-04-13 16:45:00',\n",
       "               '1970-04-13 17:00:00', '1970-04-13 17:15:00',\n",
       "               '1970-04-13 17:30:00', '1970-04-13 17:45:00',\n",
       "               '1970-04-13 18:00:00', '1970-04-13 18:15:00',\n",
       "               '1970-04-13 18:30:00', '1970-04-13 18:45:00'],\n",
       "              dtype='datetime64[ns]', name='login_time', length=9788, freq='15T')"
      ]
     },
     "execution_count": 11,
     "metadata": {},
     "output_type": "execute_result"
    }
   ],
   "source": [
    "logins_15mins.index"
   ]
  },
  {
   "cell_type": "code",
   "execution_count": 12,
   "metadata": {},
   "outputs": [
    {
     "name": "stdout",
     "output_type": "stream",
     "text": [
      "                     login_time_counts\n",
      "login_time                            \n",
      "1970-01-01 20:00:00                  2\n",
      "1970-01-01 20:15:00                  6\n",
      "1970-01-01 20:30:00                  9\n",
      "1970-01-01 20:45:00                  7\n",
      "1970-01-01 21:00:00                  1\n",
      "                     login_time_counts\n",
      "login_time                            \n",
      "1970-04-13 17:45:00                  5\n",
      "1970-04-13 18:00:00                  5\n",
      "1970-04-13 18:15:00                  2\n",
      "1970-04-13 18:30:00                  7\n",
      "1970-04-13 18:45:00                  6\n"
     ]
    }
   ],
   "source": [
    "print(logins_15mins.head())\n",
    "print(logins_15mins.tail())"
   ]
  },
  {
   "cell_type": "code",
   "execution_count": 13,
   "metadata": {
    "scrolled": true
   },
   "outputs": [
    {
     "data": {
      "image/png": "[encoded data removed]",
      "text/plain": [
       "<Figure size 432x288 with 1 Axes>"
      ]
     },
     "metadata": {
      "needs_background": "light"
     },
     "output_type": "display_data"
    }
   ],
   "source": [
    "# Let's plot monlthly data in different colors\n",
    "plt.plot(logins_15mins['1970-01-01':'1970-01-31'],'b')\n",
    "plt.plot(logins_15mins['1970-02-01':'1970-02-28'],'r')\n",
    "plt.plot(logins_15mins['1970-03-01':'1970-03-31'],'c')\n",
    "plt.plot(logins_15mins['1970-04-01':],'m')\n",
    "plt.xticks(rotation=45)\n",
    "plt.xlabel('logins at 15minute time intervals')\n",
    "plt.ylabel('login_time_counts')\n",
    "plt.title('Color coded plot for each month for 15 minute time interval logins')\n",
    "plt.show()"
   ]
  },
  {
   "cell_type": "markdown",
   "metadata": {},
   "source": [
    "##### The above color coded plot of 15-min time interval shows that although the login times fluctuate based on the time of the day, it seems that the login times counts increase slightly during latter months."
   ]
  },
  {
   "cell_type": "code",
   "execution_count": 14,
   "metadata": {},
   "outputs": [
    {
     "name": "stdout",
     "output_type": "stream",
     "text": [
      "            login_time_counts\n",
      "login_time                   \n",
      "1970-01-01                112\n",
      "1970-01-02                681\n",
      "1970-01-03                793\n",
      "1970-01-04                788\n",
      "1970-01-05                459\n",
      "            login_time_counts\n",
      "login_time                   \n",
      "1970-04-09                818\n",
      "1970-04-10               1009\n",
      "1970-04-11               1352\n",
      "1970-04-12               1409\n",
      "1970-04-13                395\n"
     ]
    }
   ],
   "source": [
    "# Aggregate the logins based on daily  intervals\n",
    "logins_daily = logins.resample('D', on='login_time').count()\n",
    "\n",
    "\n",
    "# assign the column name\n",
    "logins_daily.columns = ['login_time_counts']\n",
    "\n",
    "# check the dataframe\n",
    "print(logins_daily.head())\n",
    "print(logins_daily.tail())"
   ]
  },
  {
   "cell_type": "code",
   "execution_count": 15,
   "metadata": {},
   "outputs": [
    {
     "name": "stdout",
     "output_type": "stream",
     "text": [
      "            login_time_counts\n",
      "login_time                   \n",
      "1970-01-04               2374\n",
      "1970-01-11               5217\n",
      "1970-01-18               5023\n",
      "1970-01-25               4751\n",
      "1970-02-01               4744\n",
      "            login_time_counts\n",
      "login_time                   \n",
      "1970-03-22               8955\n",
      "1970-03-29               7285\n",
      "1970-04-05               8095\n",
      "1970-04-12               6491\n",
      "1970-04-19                395\n"
     ]
    }
   ],
   "source": [
    "# Aggregate the logins based on weekly  intervals\n",
    "logins_weekly = logins.resample('W', on='login_time').count()\n",
    "\n",
    "\n",
    "# assign the column name\n",
    "logins_weekly.columns = ['login_time_counts']\n",
    "\n",
    "# check the dataframe\n",
    "print(logins_weekly.head())\n",
    "print(logins_weekly.tail())"
   ]
  },
  {
   "cell_type": "code",
   "execution_count": 16,
   "metadata": {},
   "outputs": [
    {
     "data": {
      "image/png": "[encoded data removed]",
      "text/plain": [
       "<Figure size 432x288 with 1 Axes>"
      ]
     },
     "metadata": {
      "needs_background": "light"
     },
     "output_type": "display_data"
    }
   ],
   "source": [
    "# Let's plot monlthly data in different colors\n",
    "plt.plot(logins_daily['1970-01-01':'1970-01-31'],'b')\n",
    "plt.plot(logins_daily['1970-02-01':'1970-02-28'],'r')\n",
    "plt.plot(logins_daily['1970-03-01':'1970-03-31'],'c')\n",
    "plt.plot(logins_daily['1970-04-01':],'m')\n",
    "plt.xticks(rotation=45)\n",
    "plt.xlabel('logins at daily time intervals')\n",
    "plt.ylabel('login_time_counts')\n",
    "plt.title('Color coded plot for each month for daily time interval logins')\n",
    "plt.show()"
   ]
  },
  {
   "cell_type": "markdown",
   "metadata": {},
   "source": [
    "##### The above color coded plot of daily interval logins shows that  the login times counts increase slightly during latter months, peaking at first week of April, then decreasing in second week of April."
   ]
  },
  {
   "cell_type": "code",
   "execution_count": 17,
   "metadata": {},
   "outputs": [
    {
     "data": {
      "image/png": "[encoded data removed]",
      "text/plain": [
       "<Figure size 432x288 with 1 Axes>"
      ]
     },
     "metadata": {
      "needs_background": "light"
     },
     "output_type": "display_data"
    }
   ],
   "source": [
    "# Let's plot monlthly data in different colors\n",
    "plt.plot(logins_weekly['1970-01-01':'1970-01-31'],'b')\n",
    "plt.plot(logins_weekly['1970-02-01':'1970-02-28'],'r')\n",
    "plt.plot(logins_weekly['1970-03-01':'1970-03-31'],'c')\n",
    "plt.plot(logins_weekly['1970-04-01':],'m')\n",
    "plt.xticks(rotation=45)\n",
    "plt.xlabel('logins at weekly time intervals')\n",
    "plt.ylabel('login_time_counts')\n",
    "plt.title('Color coded plot for each month for weekly time interval logins')\n",
    "plt.show()"
   ]
  },
  {
   "cell_type": "code",
   "execution_count": 18,
   "metadata": {},
   "outputs": [
    {
     "data": {
      "text/html": [
       "<div>\n",
       "<style scoped>\n",
       "    .dataframe tbody tr th:only-of-type {\n",
       "        vertical-align: middle;\n",
       "    }\n",
       "\n",
       "    .dataframe tbody tr th {\n",
       "        vertical-align: top;\n",
       "    }\n",
       "\n",
       "    .dataframe thead th {\n",
       "        text-align: right;\n",
       "    }\n",
       "</style>\n",
       "<table border=\"1\" class=\"dataframe\">\n",
       "  <thead>\n",
       "    <tr style=\"text-align: right;\">\n",
       "      <th></th>\n",
       "      <th>login_time_counts</th>\n",
       "      <th>weekday</th>\n",
       "    </tr>\n",
       "    <tr>\n",
       "      <th>login_time</th>\n",
       "      <th></th>\n",
       "      <th></th>\n",
       "    </tr>\n",
       "  </thead>\n",
       "  <tbody>\n",
       "    <tr>\n",
       "      <td>1970-01-01 20:00:00</td>\n",
       "      <td>2</td>\n",
       "      <td>3</td>\n",
       "    </tr>\n",
       "    <tr>\n",
       "      <td>1970-01-01 20:15:00</td>\n",
       "      <td>6</td>\n",
       "      <td>3</td>\n",
       "    </tr>\n",
       "    <tr>\n",
       "      <td>1970-01-01 20:30:00</td>\n",
       "      <td>9</td>\n",
       "      <td>3</td>\n",
       "    </tr>\n",
       "    <tr>\n",
       "      <td>1970-01-01 20:45:00</td>\n",
       "      <td>7</td>\n",
       "      <td>3</td>\n",
       "    </tr>\n",
       "    <tr>\n",
       "      <td>1970-01-01 21:00:00</td>\n",
       "      <td>1</td>\n",
       "      <td>3</td>\n",
       "    </tr>\n",
       "  </tbody>\n",
       "</table>\n",
       "</div>"
      ],
      "text/plain": [
       "                     login_time_counts  weekday\n",
       "login_time                                     \n",
       "1970-01-01 20:00:00                  2        3\n",
       "1970-01-01 20:15:00                  6        3\n",
       "1970-01-01 20:30:00                  9        3\n",
       "1970-01-01 20:45:00                  7        3\n",
       "1970-01-01 21:00:00                  1        3"
      ]
     },
     "execution_count": 18,
     "metadata": {},
     "output_type": "execute_result"
    }
   ],
   "source": [
    "# Aggregate the logins based on weekday\n",
    "logins_15mins['weekday'] = logins_15mins.index.weekday\n",
    "logins_15mins.head()"
   ]
  },
  {
   "cell_type": "code",
   "execution_count": 19,
   "metadata": {},
   "outputs": [
    {
     "data": {
      "text/html": [
       "<div>\n",
       "<style scoped>\n",
       "    .dataframe tbody tr th:only-of-type {\n",
       "        vertical-align: middle;\n",
       "    }\n",
       "\n",
       "    .dataframe tbody tr th {\n",
       "        vertical-align: top;\n",
       "    }\n",
       "\n",
       "    .dataframe thead th {\n",
       "        text-align: right;\n",
       "    }\n",
       "</style>\n",
       "<table border=\"1\" class=\"dataframe\">\n",
       "  <thead>\n",
       "    <tr style=\"text-align: right;\">\n",
       "      <th></th>\n",
       "      <th>login_time_counts</th>\n",
       "    </tr>\n",
       "    <tr>\n",
       "      <th>weekday</th>\n",
       "      <th></th>\n",
       "    </tr>\n",
       "  </thead>\n",
       "  <tbody>\n",
       "    <tr>\n",
       "      <td>0</td>\n",
       "      <td>8823</td>\n",
       "    </tr>\n",
       "    <tr>\n",
       "      <td>1</td>\n",
       "      <td>9268</td>\n",
       "    </tr>\n",
       "    <tr>\n",
       "      <td>2</td>\n",
       "      <td>10339</td>\n",
       "    </tr>\n",
       "    <tr>\n",
       "      <td>3</td>\n",
       "      <td>11960</td>\n",
       "    </tr>\n",
       "    <tr>\n",
       "      <td>4</td>\n",
       "      <td>15208</td>\n",
       "    </tr>\n",
       "  </tbody>\n",
       "</table>\n",
       "</div>"
      ],
      "text/plain": [
       "         login_time_counts\n",
       "weekday                   \n",
       "0                     8823\n",
       "1                     9268\n",
       "2                    10339\n",
       "3                    11960\n",
       "4                    15208"
      ]
     },
     "execution_count": 19,
     "metadata": {},
     "output_type": "execute_result"
    }
   ],
   "source": [
    "logins_weekday = logins_15mins.groupby('weekday').sum()\n",
    "logins_weekday.head()"
   ]
  },
  {
   "cell_type": "code",
   "execution_count": 20,
   "metadata": {},
   "outputs": [
    {
     "data": {
      "text/html": [
       "<div>\n",
       "<style scoped>\n",
       "    .dataframe tbody tr th:only-of-type {\n",
       "        vertical-align: middle;\n",
       "    }\n",
       "\n",
       "    .dataframe tbody tr th {\n",
       "        vertical-align: top;\n",
       "    }\n",
       "\n",
       "    .dataframe thead th {\n",
       "        text-align: right;\n",
       "    }\n",
       "</style>\n",
       "<table border=\"1\" class=\"dataframe\">\n",
       "  <thead>\n",
       "    <tr style=\"text-align: right;\">\n",
       "      <th></th>\n",
       "      <th>login_time_counts</th>\n",
       "    </tr>\n",
       "  </thead>\n",
       "  <tbody>\n",
       "    <tr>\n",
       "      <td>Mon</td>\n",
       "      <td>8823</td>\n",
       "    </tr>\n",
       "    <tr>\n",
       "      <td>Tues</td>\n",
       "      <td>9268</td>\n",
       "    </tr>\n",
       "    <tr>\n",
       "      <td>Wed</td>\n",
       "      <td>10339</td>\n",
       "    </tr>\n",
       "    <tr>\n",
       "      <td>Thurs</td>\n",
       "      <td>11960</td>\n",
       "    </tr>\n",
       "    <tr>\n",
       "      <td>Fri</td>\n",
       "      <td>15208</td>\n",
       "    </tr>\n",
       "  </tbody>\n",
       "</table>\n",
       "</div>"
      ],
      "text/plain": [
       "       login_time_counts\n",
       "Mon                 8823\n",
       "Tues                9268\n",
       "Wed                10339\n",
       "Thurs              11960\n",
       "Fri                15208"
      ]
     },
     "execution_count": 20,
     "metadata": {},
     "output_type": "execute_result"
    }
   ],
   "source": [
    "logins_weekday.index = ['Mon', 'Tues', 'Wed', 'Thurs', 'Fri', 'Sat', 'Sun']\n",
    "logins_weekday.head()"
   ]
  },
  {
   "cell_type": "code",
   "execution_count": 21,
   "metadata": {},
   "outputs": [
    {
     "data": {
      "text/plain": [
       "Text(0.5, 0, 'Days of the Week')"
      ]
     },
     "execution_count": 21,
     "metadata": {},
     "output_type": "execute_result"
    },
    {
     "data": {
      "image/png": "[encoded data removed]",
      "text/plain": [
       "<Figure size 432x288 with 1 Axes>"
      ]
     },
     "metadata": {
      "needs_background": "light"
     },
     "output_type": "display_data"
    }
   ],
   "source": [
    "sns.barplot(x='index', y='login_time_counts', data=logins_weekday.reset_index())\n",
    "plt.title('Login Time Counts for Different Days of the Week')\n",
    "plt.ylabel('Total Login Time Counts')\n",
    "plt.xlabel('Days of the Week')"
   ]
  },
  {
   "cell_type": "markdown",
   "metadata": {},
   "source": [
    "##### The above  bar graph shows that weekends tend to have higher rate of logins compared to the weekdays."
   ]
  },
  {
   "cell_type": "code",
   "execution_count": 22,
   "metadata": {},
   "outputs": [
    {
     "data": {
      "text/plain": [
       "Text(0.5, 0, 'Hours of Day')"
      ]
     },
     "execution_count": 22,
     "metadata": {},
     "output_type": "execute_result"
    },
    {
     "data": {
      "image/png": "[encoded data removed]",
      "text/plain": [
       "<Figure size 432x288 with 1 Axes>"
      ]
     },
     "metadata": {
      "needs_background": "light"
     },
     "output_type": "display_data"
    }
   ],
   "source": [
    "# Aggregate the logins based on hours\n",
    "logins_15mins['hour'] = logins_15mins.index.hour\n",
    "\n",
    "hourly = logins_15mins.drop('weekday', axis=1).groupby('hour').sum()\n",
    "\n",
    "sns.barplot(x='hour', y='login_time_counts', data=hourly.reset_index())\n",
    "plt.title('Login Time Counts for Different hours of the Day')\n",
    "plt.ylabel('Total Login Time Counts')\n",
    "plt.xlabel('Hours of Day')"
   ]
  },
  {
   "cell_type": "markdown",
   "metadata": {},
   "source": [
    "##### Upon breakingdown the login time counts to different hours of the day, it shows bimodal pattern one peaking around midnight and the other around noon."
   ]
  },
  {
   "cell_type": "code",
   "execution_count": 23,
   "metadata": {},
   "outputs": [
    {
     "name": "stdout",
     "output_type": "stream",
     "text": [
      "                  login_time_counts  weekday  hour\n",
      "WeekDay 00:00:00          12.250000      2.0   0.0\n",
      "        00:15:00          13.111111      2.0   0.0\n",
      "        00:30:00          12.708333      2.0   0.0\n",
      "        00:45:00          12.152778      2.0   0.0\n",
      "        01:00:00          12.680556      2.0   1.0\n",
      "                  login_time_counts  weekday  hour\n",
      "WeekEnd 22:45:00          15.300000      5.5  22.0\n",
      "        23:00:00          13.133333      5.5  23.0\n",
      "        23:15:00          13.100000      5.5  23.0\n",
      "        23:30:00          12.566667      5.5  23.0\n",
      "        23:45:00          13.300000      5.5  23.0\n",
      "<class 'pandas.core.frame.DataFrame'>\n",
      "MultiIndex: 192 entries, (WeekDay, 00:00:00) to (WeekEnd, 23:45:00)\n",
      "Data columns (total 3 columns):\n",
      "login_time_counts    192 non-null float64\n",
      "weekday              192 non-null float64\n",
      "hour                 192 non-null float64\n",
      "dtypes: float64(3)\n",
      "memory usage: 5.7+ KB\n",
      "None\n"
     ]
    }
   ],
   "source": [
    "# Now let's separate the hours by weekend and weekdays\n",
    "weekend_or_weekday = np.where(logins_15mins.weekday < 5, 'WeekDay', 'WeekEnd')\n",
    "wknd_wkdy_time = logins_15mins.groupby([weekend_or_weekday, logins_15mins.index.time]).mean()\n",
    "print(wknd_wkdy_time.head())\n",
    "print(wknd_wkdy_time.tail())\n",
    "print(wknd_wkdy_time.info())"
   ]
  },
  {
   "cell_type": "code",
   "execution_count": 24,
   "metadata": {},
   "outputs": [
    {
     "data": {
      "image/png": "[encoded data removed]",
      "text/plain": [
       "<Figure size 1152x576 with 2 Axes>"
      ]
     },
     "metadata": {
      "needs_background": "light"
     },
     "output_type": "display_data"
    }
   ],
   "source": [
    "fig, ax = plt.subplots(1,2, figsize=(16,8))\n",
    "\n",
    "sns.barplot(x='hour', y='login_time_counts', \n",
    "            data=wknd_wkdy_time.loc['WeekDay'].reset_index(), ax=ax[0])\n",
    "plt.title('Login Time Counts for Different hours of the Day on WeekDays')\n",
    "plt.ylabel('Total Login Time Counts for WeekDays')\n",
    "plt.xlabel('Hours of Day')\n",
    "\n",
    "\n",
    "sns.barplot(x='hour', y='login_time_counts', \n",
    "            data=wknd_wkdy_time.loc['WeekEnd'].reset_index(), ax=ax[1])\n",
    "plt.title('Login Time Counts for Different hours of the Day on WeekEnds')\n",
    "plt.ylabel('Total Login Time Counts for WeekEnds')\n",
    "plt.xlabel('Hours of Day')\n",
    "plt.show()"
   ]
  },
  {
   "cell_type": "markdown",
   "metadata": {},
   "source": [
    "##### When the hourly breakdown was further broken down into weekday and weekend, the pattern shows starking differnce in the peak login hours."
   ]
  },
  {
   "cell_type": "markdown",
   "metadata": {},
   "source": [
    "## Part 2: Experiment and metrics design\n",
    "\n",
    "The neighboring cities of Gotham and Metropolis have complementary circadian rhythms: on\n",
    "weekdays, Ultimate Gotham is most active at night, and Ultimate Metropolis is most active\n",
    "during the day. On weekends, there is reasonable activity in both cities.\n",
    "However, a toll bridge, with a two way\n",
    "toll, between the two cities causes driver partners to tend\n",
    "to be exclusive to each city. The Ultimate managers of city operations for the two cities have\n",
    "proposed an experiment to encourage driver partners to be available in both cities, by\n",
    "reimbursing all toll costs.\n",
    "1. What would you choose as the key measure of success of this experiment in\n",
    "encouraging driver partners to serve both cities, and why would you choose this metric?\n",
    "2. Describe a practical experiment you would design to compare the effectiveness of the\n",
    "proposed change in relation to the key measure of success. Please provide details on:\n",
    "a. how you will implement the experiment\n",
    "b. what statistical test(s) you will conduct to verify the significance of the\n",
    "observation\n",
    "c. how you would interpret the results and provide recommendations to the city\n",
    "operations team along with any caveats."
   ]
  },
  {
   "cell_type": "markdown",
   "metadata": {},
   "source": [
    "##### Answer 1: The key measure for this experiment in my opinion would be the toll usage. As the question mentions circadian rhythms for Gotham and Metropolis, I would like to track that to see if  it changes with the reimbursement of the tolls. \n",
    "\n",
    "##### Answer 2a: I would propose A/B testing. For this I would trial the reimbursement of tolls for a given period, for example one month or two months etc for one city and not in the other city which will serve as a control. Then after the trial period swap the trial. I would then analyze the pattern of bridge crossings. Alternatively, instead of taking one city as control and other as test, we can randomize the drivers from both cities into two groups:- test and control and monitor the bridge crossings.\n",
    "\n",
    "##### Answer 2b: I would use t-test to test:- (i) Bridge crossings into Gotham during night, (ii) Bridge crossings into Metropolis during day, and (iii) Bridge crossings in both directions during weekends.\n",
    "\n",
    "##### Answer 2c: If the incentive of reimbursing tolls does result in change of activity, then it suggests that the system is working. If the change is not very significant or no change at all, then probably just the reimbursement of tolls is not working and we need to provide something else for encouraging the drivers. I would propose, in addition to reimbursement of tolls, to provide extra incentive for crossing the bridge, say 10% extra if crossed into other city during the hours other than peak hours. Reimbursement of tolls plus extra bonus would probably be enough to attract the drivers into other city. "
   ]
  },
  {
   "cell_type": "markdown",
   "metadata": {},
   "source": [
    "## Part 3 - Predictive Modeling\n",
    "\n",
    "Ultimate is interested in predicting rider retention. To help explore this question, we have\n",
    "provided a sample dataset of a cohort of users who signed up for an Ultimate account in\n",
    "January 2014. The data was pulled several months later; we consider a user retained if they\n",
    "were “active” (i.e. took a trip) in the preceding 30 days.\n",
    "We would like you to use this data set to help understand what factors are the best predictors\n",
    "for retention, and offer suggestions to operationalize those insights to help Ultimate.\n",
    "The data is in the attached file ultimate_data_challenge.json. See below for a detailed\n",
    "description of the dataset. Please include any code you wrote for the analysis and delete the\n",
    "dataset when you have finished with the challenge.\n",
    "1. Perform any cleaning, exploratory analysis, and/or visualizations to use the provided\n",
    "data for this analysis (a few sentences/plots describing your approach will suffice). What\n",
    "fraction of the observed users were retained?\n",
    "2. Build a predictive model to help Ultimate determine whether or not a user will be active\n",
    "in their 6th month on the system. Discuss why you chose your approach, what\n",
    "alternatives you considered, and any concerns you have. How valid is your model?\n",
    "Include any key indicators of model performance.\n",
    "3. Briefly discuss how Ultimate might leverage the insights gained from the model to\n",
    "improve its longterm\n",
    "rider retention (again, a few sentences will suffice).\n",
    "\n",
    "\n",
    "### Data description\n",
    "● __city:__ city this user signed up in\n",
    "\n",
    "● __phone:__ primary device for this user\n",
    "\n",
    "● __signup_date:__ date of account registration; in the form ‘YYYY MM DD’\n",
    "\n",
    "● __last_trip_date:__ the last time this user completed a trip; in the form ‘YYYY MM DD’\n",
    "\n",
    "● __avg_dist:__ the average distance in miles per trip taken in the first 30 days after signup\n",
    "\n",
    "● __avg_rating_by_driver:__ the rider’s average rating over all of their trips\n",
    "\n",
    "● __avg_rating_of_driver:__ the rider’s average rating of their drivers over all of their trips\n",
    "\n",
    "● __surge_pct:__ the percent of trips taken with surge multiplier > 1\n",
    "\n",
    "● __avg_surge:__ The average surge multiplier over all of this user’s trips\n",
    "\n",
    "● __trips_in_first_30_days:__ the number of trips this user took in the first 30 days after\n",
    "signing up\n",
    "\n",
    "● __ultimate_black_user:__ TRUE if the user took an Ultimate Black in their first 30 days;\n",
    "FALSE otherwise\n",
    "\n",
    "● __weekday_pct:__ the percent of the user’s trips occurring during a weekday"
   ]
  },
  {
   "cell_type": "code",
   "execution_count": 25,
   "metadata": {},
   "outputs": [
    {
     "data": {
      "text/html": [
       "<div>\n",
       "<style scoped>\n",
       "    .dataframe tbody tr th:only-of-type {\n",
       "        vertical-align: middle;\n",
       "    }\n",
       "\n",
       "    .dataframe tbody tr th {\n",
       "        vertical-align: top;\n",
       "    }\n",
       "\n",
       "    .dataframe thead th {\n",
       "        text-align: right;\n",
       "    }\n",
       "</style>\n",
       "<table border=\"1\" class=\"dataframe\">\n",
       "  <thead>\n",
       "    <tr style=\"text-align: right;\">\n",
       "      <th></th>\n",
       "      <th>city</th>\n",
       "      <th>trips_in_first_30_days</th>\n",
       "      <th>signup_date</th>\n",
       "      <th>avg_rating_of_driver</th>\n",
       "      <th>avg_surge</th>\n",
       "      <th>last_trip_date</th>\n",
       "      <th>phone</th>\n",
       "      <th>surge_pct</th>\n",
       "      <th>ultimate_black_user</th>\n",
       "      <th>weekday_pct</th>\n",
       "      <th>avg_dist</th>\n",
       "      <th>avg_rating_by_driver</th>\n",
       "    </tr>\n",
       "  </thead>\n",
       "  <tbody>\n",
       "    <tr>\n",
       "      <td>0</td>\n",
       "      <td>King's Landing</td>\n",
       "      <td>4</td>\n",
       "      <td>2014-01-25</td>\n",
       "      <td>4.7</td>\n",
       "      <td>1.10</td>\n",
       "      <td>2014-06-17</td>\n",
       "      <td>iPhone</td>\n",
       "      <td>15.4</td>\n",
       "      <td>True</td>\n",
       "      <td>46.2</td>\n",
       "      <td>3.67</td>\n",
       "      <td>5.0</td>\n",
       "    </tr>\n",
       "    <tr>\n",
       "      <td>1</td>\n",
       "      <td>Astapor</td>\n",
       "      <td>0</td>\n",
       "      <td>2014-01-29</td>\n",
       "      <td>5.0</td>\n",
       "      <td>1.00</td>\n",
       "      <td>2014-05-05</td>\n",
       "      <td>Android</td>\n",
       "      <td>0.0</td>\n",
       "      <td>False</td>\n",
       "      <td>50.0</td>\n",
       "      <td>8.26</td>\n",
       "      <td>5.0</td>\n",
       "    </tr>\n",
       "    <tr>\n",
       "      <td>2</td>\n",
       "      <td>Astapor</td>\n",
       "      <td>3</td>\n",
       "      <td>2014-01-06</td>\n",
       "      <td>4.3</td>\n",
       "      <td>1.00</td>\n",
       "      <td>2014-01-07</td>\n",
       "      <td>iPhone</td>\n",
       "      <td>0.0</td>\n",
       "      <td>False</td>\n",
       "      <td>100.0</td>\n",
       "      <td>0.77</td>\n",
       "      <td>5.0</td>\n",
       "    </tr>\n",
       "    <tr>\n",
       "      <td>3</td>\n",
       "      <td>King's Landing</td>\n",
       "      <td>9</td>\n",
       "      <td>2014-01-10</td>\n",
       "      <td>4.6</td>\n",
       "      <td>1.14</td>\n",
       "      <td>2014-06-29</td>\n",
       "      <td>iPhone</td>\n",
       "      <td>20.0</td>\n",
       "      <td>True</td>\n",
       "      <td>80.0</td>\n",
       "      <td>2.36</td>\n",
       "      <td>4.9</td>\n",
       "    </tr>\n",
       "    <tr>\n",
       "      <td>4</td>\n",
       "      <td>Winterfell</td>\n",
       "      <td>14</td>\n",
       "      <td>2014-01-27</td>\n",
       "      <td>4.4</td>\n",
       "      <td>1.19</td>\n",
       "      <td>2014-03-15</td>\n",
       "      <td>Android</td>\n",
       "      <td>11.8</td>\n",
       "      <td>False</td>\n",
       "      <td>82.4</td>\n",
       "      <td>3.13</td>\n",
       "      <td>4.9</td>\n",
       "    </tr>\n",
       "  </tbody>\n",
       "</table>\n",
       "</div>"
      ],
      "text/plain": [
       "             city  trips_in_first_30_days signup_date  avg_rating_of_driver  \\\n",
       "0  King's Landing                       4  2014-01-25                   4.7   \n",
       "1         Astapor                       0  2014-01-29                   5.0   \n",
       "2         Astapor                       3  2014-01-06                   4.3   \n",
       "3  King's Landing                       9  2014-01-10                   4.6   \n",
       "4      Winterfell                      14  2014-01-27                   4.4   \n",
       "\n",
       "   avg_surge last_trip_date    phone  surge_pct  ultimate_black_user  \\\n",
       "0       1.10     2014-06-17   iPhone       15.4                 True   \n",
       "1       1.00     2014-05-05  Android        0.0                False   \n",
       "2       1.00     2014-01-07   iPhone        0.0                False   \n",
       "3       1.14     2014-06-29   iPhone       20.0                 True   \n",
       "4       1.19     2014-03-15  Android       11.8                False   \n",
       "\n",
       "   weekday_pct  avg_dist  avg_rating_by_driver  \n",
       "0         46.2      3.67                   5.0  \n",
       "1         50.0      8.26                   5.0  \n",
       "2        100.0      0.77                   5.0  \n",
       "3         80.0      2.36                   4.9  \n",
       "4         82.4      3.13                   4.9  "
      ]
     },
     "execution_count": 25,
     "metadata": {},
     "output_type": "execute_result"
    }
   ],
   "source": [
    "import json\n",
    "\n",
    "df = json.load(open('ultimate_data_challenge.json'))\n",
    "retain_df = pd.DataFrame(df)\n",
    "retain_df.head()"
   ]
  },
  {
   "cell_type": "code",
   "execution_count": 26,
   "metadata": {},
   "outputs": [
    {
     "data": {
      "text/plain": [
       "(50000, 12)"
      ]
     },
     "execution_count": 26,
     "metadata": {},
     "output_type": "execute_result"
    }
   ],
   "source": [
    "retain_df.shape"
   ]
  },
  {
   "cell_type": "code",
   "execution_count": 27,
   "metadata": {},
   "outputs": [
    {
     "name": "stdout",
     "output_type": "stream",
     "text": [
      "<class 'pandas.core.frame.DataFrame'>\n",
      "RangeIndex: 50000 entries, 0 to 49999\n",
      "Data columns (total 12 columns):\n",
      "city                      50000 non-null object\n",
      "trips_in_first_30_days    50000 non-null int64\n",
      "signup_date               50000 non-null object\n",
      "avg_rating_of_driver      41878 non-null float64\n",
      "avg_surge                 50000 non-null float64\n",
      "last_trip_date            50000 non-null object\n",
      "phone                     49604 non-null object\n",
      "surge_pct                 50000 non-null float64\n",
      "ultimate_black_user       50000 non-null bool\n",
      "weekday_pct               50000 non-null float64\n",
      "avg_dist                  50000 non-null float64\n",
      "avg_rating_by_driver      49799 non-null float64\n",
      "dtypes: bool(1), float64(6), int64(1), object(4)\n",
      "memory usage: 4.2+ MB\n"
     ]
    }
   ],
   "source": [
    "retain_df.info()"
   ]
  },
  {
   "cell_type": "code",
   "execution_count": 28,
   "metadata": {},
   "outputs": [],
   "source": [
    "# convert the time series\n",
    "retain_df['signup_date'] = pd.to_datetime(retain_df['signup_date'])\n",
    "retain_df['last_trip_date'] = pd.to_datetime(retain_df['last_trip_date'])"
   ]
  },
  {
   "cell_type": "code",
   "execution_count": 29,
   "metadata": {},
   "outputs": [
    {
     "data": {
      "text/plain": [
       "Winterfell        23336\n",
       "Astapor           16534\n",
       "King's Landing    10130\n",
       "Name: city, dtype: int64"
      ]
     },
     "execution_count": 29,
     "metadata": {},
     "output_type": "execute_result"
    }
   ],
   "source": [
    "# counting how many cities are there\n",
    "retain_df.city.value_counts()"
   ]
  },
  {
   "cell_type": "code",
   "execution_count": 30,
   "metadata": {},
   "outputs": [
    {
     "data": {
      "text/plain": [
       "iPhone     34582\n",
       "Android    15022\n",
       "Name: phone, dtype: int64"
      ]
     },
     "execution_count": 30,
     "metadata": {},
     "output_type": "execute_result"
    }
   ],
   "source": [
    "# counting phones\n",
    "retain_df.phone.value_counts()"
   ]
  },
  {
   "cell_type": "code",
   "execution_count": 31,
   "metadata": {},
   "outputs": [
    {
     "name": "stdout",
     "output_type": "stream",
     "text": [
      "Percentage of riders by city:\n",
      " Winterfell        46.672\n",
      "Astapor           33.068\n",
      "King's Landing    20.260\n",
      "Name: city, dtype: float64\n",
      "************************************************************\n",
      "Percentage of riders by phone users:\n",
      " iPhone     69.164\n",
      "Android    30.044\n",
      "Name: phone, dtype: float64\n"
     ]
    }
   ],
   "source": [
    "print('Percentage of riders by city:\\n', (retain_df.city.value_counts()/retain_df.shape[0])*100)\n",
    "print('*'*60)\n",
    "print('Percentage of riders by phone users:\\n', (retain_df.phone.value_counts()/retain_df.shape[0])*100)"
   ]
  },
  {
   "cell_type": "code",
   "execution_count": 32,
   "metadata": {},
   "outputs": [
    {
     "data": {
      "text/html": [
       "<div>\n",
       "<style scoped>\n",
       "    .dataframe tbody tr th:only-of-type {\n",
       "        vertical-align: middle;\n",
       "    }\n",
       "\n",
       "    .dataframe tbody tr th {\n",
       "        vertical-align: top;\n",
       "    }\n",
       "\n",
       "    .dataframe thead th {\n",
       "        text-align: right;\n",
       "    }\n",
       "</style>\n",
       "<table border=\"1\" class=\"dataframe\">\n",
       "  <thead>\n",
       "    <tr style=\"text-align: right;\">\n",
       "      <th></th>\n",
       "      <th>city</th>\n",
       "      <th>trips_in_first_30_days</th>\n",
       "      <th>signup_date</th>\n",
       "      <th>avg_rating_of_driver</th>\n",
       "      <th>avg_surge</th>\n",
       "      <th>last_trip_date</th>\n",
       "      <th>phone</th>\n",
       "      <th>surge_pct</th>\n",
       "      <th>ultimate_black_user</th>\n",
       "      <th>weekday_pct</th>\n",
       "      <th>avg_dist</th>\n",
       "      <th>avg_rating_by_driver</th>\n",
       "      <th>rider</th>\n",
       "    </tr>\n",
       "  </thead>\n",
       "  <tbody>\n",
       "    <tr>\n",
       "      <td>0</td>\n",
       "      <td>King's Landing</td>\n",
       "      <td>4</td>\n",
       "      <td>2014-01-25</td>\n",
       "      <td>4.7</td>\n",
       "      <td>1.10</td>\n",
       "      <td>2014-06-17</td>\n",
       "      <td>iPhone</td>\n",
       "      <td>15.4</td>\n",
       "      <td>True</td>\n",
       "      <td>46.2</td>\n",
       "      <td>3.67</td>\n",
       "      <td>5.0</td>\n",
       "      <td>active</td>\n",
       "    </tr>\n",
       "    <tr>\n",
       "      <td>1</td>\n",
       "      <td>Astapor</td>\n",
       "      <td>0</td>\n",
       "      <td>2014-01-29</td>\n",
       "      <td>5.0</td>\n",
       "      <td>1.00</td>\n",
       "      <td>2014-05-05</td>\n",
       "      <td>Android</td>\n",
       "      <td>0.0</td>\n",
       "      <td>False</td>\n",
       "      <td>50.0</td>\n",
       "      <td>8.26</td>\n",
       "      <td>5.0</td>\n",
       "      <td>inactive</td>\n",
       "    </tr>\n",
       "    <tr>\n",
       "      <td>2</td>\n",
       "      <td>Astapor</td>\n",
       "      <td>3</td>\n",
       "      <td>2014-01-06</td>\n",
       "      <td>4.3</td>\n",
       "      <td>1.00</td>\n",
       "      <td>2014-01-07</td>\n",
       "      <td>iPhone</td>\n",
       "      <td>0.0</td>\n",
       "      <td>False</td>\n",
       "      <td>100.0</td>\n",
       "      <td>0.77</td>\n",
       "      <td>5.0</td>\n",
       "      <td>inactive</td>\n",
       "    </tr>\n",
       "    <tr>\n",
       "      <td>3</td>\n",
       "      <td>King's Landing</td>\n",
       "      <td>9</td>\n",
       "      <td>2014-01-10</td>\n",
       "      <td>4.6</td>\n",
       "      <td>1.14</td>\n",
       "      <td>2014-06-29</td>\n",
       "      <td>iPhone</td>\n",
       "      <td>20.0</td>\n",
       "      <td>True</td>\n",
       "      <td>80.0</td>\n",
       "      <td>2.36</td>\n",
       "      <td>4.9</td>\n",
       "      <td>active</td>\n",
       "    </tr>\n",
       "    <tr>\n",
       "      <td>4</td>\n",
       "      <td>Winterfell</td>\n",
       "      <td>14</td>\n",
       "      <td>2014-01-27</td>\n",
       "      <td>4.4</td>\n",
       "      <td>1.19</td>\n",
       "      <td>2014-03-15</td>\n",
       "      <td>Android</td>\n",
       "      <td>11.8</td>\n",
       "      <td>False</td>\n",
       "      <td>82.4</td>\n",
       "      <td>3.13</td>\n",
       "      <td>4.9</td>\n",
       "      <td>inactive</td>\n",
       "    </tr>\n",
       "  </tbody>\n",
       "</table>\n",
       "</div>"
      ],
      "text/plain": [
       "             city  trips_in_first_30_days signup_date  avg_rating_of_driver  \\\n",
       "0  King's Landing                       4  2014-01-25                   4.7   \n",
       "1         Astapor                       0  2014-01-29                   5.0   \n",
       "2         Astapor                       3  2014-01-06                   4.3   \n",
       "3  King's Landing                       9  2014-01-10                   4.6   \n",
       "4      Winterfell                      14  2014-01-27                   4.4   \n",
       "\n",
       "   avg_surge last_trip_date    phone  surge_pct  ultimate_black_user  \\\n",
       "0       1.10     2014-06-17   iPhone       15.4                 True   \n",
       "1       1.00     2014-05-05  Android        0.0                False   \n",
       "2       1.00     2014-01-07   iPhone        0.0                False   \n",
       "3       1.14     2014-06-29   iPhone       20.0                 True   \n",
       "4       1.19     2014-03-15  Android       11.8                False   \n",
       "\n",
       "   weekday_pct  avg_dist  avg_rating_by_driver     rider  \n",
       "0         46.2      3.67                   5.0    active  \n",
       "1         50.0      8.26                   5.0  inactive  \n",
       "2        100.0      0.77                   5.0  inactive  \n",
       "3         80.0      2.36                   4.9    active  \n",
       "4         82.4      3.13                   4.9  inactive  "
      ]
     },
     "execution_count": 32,
     "metadata": {},
     "output_type": "execute_result"
    }
   ],
   "source": [
    "# now let's calculate the retention (i.e. target variable)\n",
    "last_day = max(retain_df['last_trip_date'])\n",
    "days = pd.date_range(end=last_day, periods=30, freq='D')\n",
    "retain_df['rider'] = retain_df['last_trip_date'].map(lambda active: 'active' if active in days else 'inactive')\n",
    "retain_df.head()"
   ]
  },
  {
   "cell_type": "code",
   "execution_count": 33,
   "metadata": {},
   "outputs": [
    {
     "name": "stdout",
     "output_type": "stream",
     "text": [
      "The proportion of the retained riders: 36.62 %\n"
     ]
    }
   ],
   "source": [
    "# Let's calculate the proportion of retained riders\n",
    "active_riders_percent = len(retain_df[retain_df.rider == 'active']) / len(retain_df)\n",
    "print('The proportion of the retained riders: %.2f' % (active_riders_percent*100),'%')"
   ]
  },
  {
   "cell_type": "code",
   "execution_count": 34,
   "metadata": {},
   "outputs": [
    {
     "data": {
      "text/plain": [
       "Text(0.5, 1.0, 'Rider retention percent by City')"
      ]
     },
     "execution_count": 34,
     "metadata": {},
     "output_type": "execute_result"
    },
    {
     "data": {
      "image/png": "[encoded data removed]",
      "text/plain": [
       "<Figure size 432x288 with 1 Axes>"
      ]
     },
     "metadata": {
      "needs_background": "light"
     },
     "output_type": "display_data"
    }
   ],
   "source": [
    "# Let's look at the rider retention based on cities\n",
    "sns.countplot(x='city', hue='rider', data=retain_df)\n",
    "plt.title('Rider retention percent by City')"
   ]
  },
  {
   "cell_type": "code",
   "execution_count": 35,
   "metadata": {},
   "outputs": [
    {
     "data": {
      "text/plain": [
       "Text(0.5, 1.0, 'Rider retention percent by Ultimate Black Users')"
      ]
     },
     "execution_count": 35,
     "metadata": {},
     "output_type": "execute_result"
    },
    {
     "data": {
      "image/png": "[encoded data removed]",
      "text/plain": [
       "<Figure size 432x288 with 1 Axes>"
      ]
     },
     "metadata": {
      "needs_background": "light"
     },
     "output_type": "display_data"
    }
   ],
   "source": [
    "sns.countplot(x='ultimate_black_user', hue='rider', data=retain_df)\n",
    "plt.title('Rider retention percent by Ultimate Black Users')"
   ]
  },
  {
   "cell_type": "code",
   "execution_count": 36,
   "metadata": {},
   "outputs": [
    {
     "data": {
      "text/plain": [
       "Text(0.5, 1.0, 'Rider retention percent by phone users')"
      ]
     },
     "execution_count": 36,
     "metadata": {},
     "output_type": "execute_result"
    },
    {
     "data": {
      "image/png": "[encoded data removed]",
      "text/plain": [
       "<Figure size 432x288 with 1 Axes>"
      ]
     },
     "metadata": {
      "needs_background": "light"
     },
     "output_type": "display_data"
    }
   ],
   "source": [
    "sns.countplot(x='phone', hue='rider', data=retain_df)\n",
    "plt.title('Rider retention percent by phone users')"
   ]
  },
  {
   "cell_type": "code",
   "execution_count": 37,
   "metadata": {},
   "outputs": [
    {
     "data": {
      "text/plain": [
       "<matplotlib.axes._subplots.AxesSubplot at 0x1296f0550>"
      ]
     },
     "execution_count": 37,
     "metadata": {},
     "output_type": "execute_result"
    },
    {
     "data": {
      "image/png": "[encoded data removed]",
      "text/plain": [
       "<Figure size 1152x576 with 2 Axes>"
      ]
     },
     "metadata": {
      "needs_background": "light"
     },
     "output_type": "display_data"
    }
   ],
   "source": [
    "# now let's check the rider retention by ratings and avg_dist\n",
    "fig, ax = plt.subplots(1,2,figsize=(16,8))\n",
    "sns.boxplot(x='avg_rating_of_driver', y='rider', data=retain_df, ax=ax[0])\n",
    "sns.boxplot(x='avg_dist', y='rider', data=retain_df, ax=ax[1])"
   ]
  },
  {
   "cell_type": "code",
   "execution_count": 38,
   "metadata": {},
   "outputs": [
    {
     "data": {
      "text/plain": [
       "(-1, 20)"
      ]
     },
     "execution_count": 38,
     "metadata": {},
     "output_type": "execute_result"
    },
    {
     "data": {
      "image/png": "[encoded data removed]",
      "text/plain": [
       "<Figure size 1152x576 with 2 Axes>"
      ]
     },
     "metadata": {
      "needs_background": "light"
     },
     "output_type": "display_data"
    }
   ],
   "source": [
    "fig, ax = plt.subplots(1,2,figsize=(16,8))\n",
    "sns.boxplot(x='avg_rating_of_driver', y='rider', data=retain_df, ax=ax[0])\n",
    "plt.xlim(4.2,5.1)\n",
    "sns.boxplot(x='avg_dist', y='rider', data=retain_df, ax=ax[1])\n",
    "plt.xlim(-1,20)"
   ]
  },
  {
   "cell_type": "code",
   "execution_count": 39,
   "metadata": {},
   "outputs": [
    {
     "data": {
      "text/plain": [
       "(4.2, 5.1)"
      ]
     },
     "execution_count": 39,
     "metadata": {},
     "output_type": "execute_result"
    },
    {
     "data": {
      "image/png": "[encoded data removed]",
      "text/plain": [
       "<Figure size 432x288 with 1 Axes>"
      ]
     },
     "metadata": {
      "needs_background": "light"
     },
     "output_type": "display_data"
    }
   ],
   "source": [
    "sns.boxplot(x='avg_rating_of_driver', y='rider', data=retain_df)\n",
    "plt.xlim(4.2,5.1)"
   ]
  },
  {
   "cell_type": "code",
   "execution_count": 40,
   "metadata": {},
   "outputs": [
    {
     "data": {
      "text/plain": [
       "(-1, 20)"
      ]
     },
     "execution_count": 40,
     "metadata": {},
     "output_type": "execute_result"
    },
    {
     "data": {
      "image/png": "[encoded data removed]",
      "text/plain": [
       "<Figure size 432x288 with 1 Axes>"
      ]
     },
     "metadata": {
      "needs_background": "light"
     },
     "output_type": "display_data"
    }
   ],
   "source": [
    "sns.boxplot(x='avg_dist', y='rider', data=retain_df)\n",
    "plt.xlim(-1,20)"
   ]
  },
  {
   "cell_type": "code",
   "execution_count": 41,
   "metadata": {},
   "outputs": [
    {
     "name": "stdout",
     "output_type": "stream",
     "text": [
      "<class 'pandas.core.frame.DataFrame'>\n",
      "RangeIndex: 50000 entries, 0 to 49999\n",
      "Data columns (total 13 columns):\n",
      "city                      50000 non-null object\n",
      "trips_in_first_30_days    50000 non-null int64\n",
      "signup_date               50000 non-null datetime64[ns]\n",
      "avg_rating_of_driver      41878 non-null float64\n",
      "avg_surge                 50000 non-null float64\n",
      "last_trip_date            50000 non-null datetime64[ns]\n",
      "phone                     49604 non-null object\n",
      "surge_pct                 50000 non-null float64\n",
      "ultimate_black_user       50000 non-null bool\n",
      "weekday_pct               50000 non-null float64\n",
      "avg_dist                  50000 non-null float64\n",
      "avg_rating_by_driver      49799 non-null float64\n",
      "rider                     50000 non-null object\n",
      "dtypes: bool(1), datetime64[ns](2), float64(6), int64(1), object(3)\n",
      "memory usage: 4.6+ MB\n"
     ]
    }
   ],
   "source": [
    "retain_df.info()"
   ]
  },
  {
   "cell_type": "code",
   "execution_count": 42,
   "metadata": {},
   "outputs": [
    {
     "data": {
      "text/html": [
       "<div>\n",
       "<style scoped>\n",
       "    .dataframe tbody tr th:only-of-type {\n",
       "        vertical-align: middle;\n",
       "    }\n",
       "\n",
       "    .dataframe tbody tr th {\n",
       "        vertical-align: top;\n",
       "    }\n",
       "\n",
       "    .dataframe thead th {\n",
       "        text-align: right;\n",
       "    }\n",
       "</style>\n",
       "<table border=\"1\" class=\"dataframe\">\n",
       "  <thead>\n",
       "    <tr style=\"text-align: right;\">\n",
       "      <th></th>\n",
       "      <th>city</th>\n",
       "      <th>trips_in_first_30_days</th>\n",
       "      <th>signup_date</th>\n",
       "      <th>avg_rating_of_driver</th>\n",
       "      <th>avg_surge</th>\n",
       "      <th>last_trip_date</th>\n",
       "      <th>phone</th>\n",
       "      <th>surge_pct</th>\n",
       "      <th>ultimate_black_user</th>\n",
       "      <th>weekday_pct</th>\n",
       "      <th>avg_dist</th>\n",
       "      <th>avg_rating_by_driver</th>\n",
       "      <th>rider</th>\n",
       "    </tr>\n",
       "  </thead>\n",
       "  <tbody>\n",
       "    <tr>\n",
       "      <td>0</td>\n",
       "      <td>King's Landing</td>\n",
       "      <td>4</td>\n",
       "      <td>2014-01-25</td>\n",
       "      <td>4.7</td>\n",
       "      <td>1.10</td>\n",
       "      <td>2014-06-17</td>\n",
       "      <td>iPhone</td>\n",
       "      <td>15.4</td>\n",
       "      <td>True</td>\n",
       "      <td>46.2</td>\n",
       "      <td>3.67</td>\n",
       "      <td>5.0</td>\n",
       "      <td>1</td>\n",
       "    </tr>\n",
       "    <tr>\n",
       "      <td>1</td>\n",
       "      <td>Astapor</td>\n",
       "      <td>0</td>\n",
       "      <td>2014-01-29</td>\n",
       "      <td>5.0</td>\n",
       "      <td>1.00</td>\n",
       "      <td>2014-05-05</td>\n",
       "      <td>Android</td>\n",
       "      <td>0.0</td>\n",
       "      <td>False</td>\n",
       "      <td>50.0</td>\n",
       "      <td>8.26</td>\n",
       "      <td>5.0</td>\n",
       "      <td>0</td>\n",
       "    </tr>\n",
       "    <tr>\n",
       "      <td>2</td>\n",
       "      <td>Astapor</td>\n",
       "      <td>3</td>\n",
       "      <td>2014-01-06</td>\n",
       "      <td>4.3</td>\n",
       "      <td>1.00</td>\n",
       "      <td>2014-01-07</td>\n",
       "      <td>iPhone</td>\n",
       "      <td>0.0</td>\n",
       "      <td>False</td>\n",
       "      <td>100.0</td>\n",
       "      <td>0.77</td>\n",
       "      <td>5.0</td>\n",
       "      <td>0</td>\n",
       "    </tr>\n",
       "    <tr>\n",
       "      <td>3</td>\n",
       "      <td>King's Landing</td>\n",
       "      <td>9</td>\n",
       "      <td>2014-01-10</td>\n",
       "      <td>4.6</td>\n",
       "      <td>1.14</td>\n",
       "      <td>2014-06-29</td>\n",
       "      <td>iPhone</td>\n",
       "      <td>20.0</td>\n",
       "      <td>True</td>\n",
       "      <td>80.0</td>\n",
       "      <td>2.36</td>\n",
       "      <td>4.9</td>\n",
       "      <td>1</td>\n",
       "    </tr>\n",
       "    <tr>\n",
       "      <td>4</td>\n",
       "      <td>Winterfell</td>\n",
       "      <td>14</td>\n",
       "      <td>2014-01-27</td>\n",
       "      <td>4.4</td>\n",
       "      <td>1.19</td>\n",
       "      <td>2014-03-15</td>\n",
       "      <td>Android</td>\n",
       "      <td>11.8</td>\n",
       "      <td>False</td>\n",
       "      <td>82.4</td>\n",
       "      <td>3.13</td>\n",
       "      <td>4.9</td>\n",
       "      <td>0</td>\n",
       "    </tr>\n",
       "  </tbody>\n",
       "</table>\n",
       "</div>"
      ],
      "text/plain": [
       "             city  trips_in_first_30_days signup_date  avg_rating_of_driver  \\\n",
       "0  King's Landing                       4  2014-01-25                   4.7   \n",
       "1         Astapor                       0  2014-01-29                   5.0   \n",
       "2         Astapor                       3  2014-01-06                   4.3   \n",
       "3  King's Landing                       9  2014-01-10                   4.6   \n",
       "4      Winterfell                      14  2014-01-27                   4.4   \n",
       "\n",
       "   avg_surge last_trip_date    phone  surge_pct  ultimate_black_user  \\\n",
       "0       1.10     2014-06-17   iPhone       15.4                 True   \n",
       "1       1.00     2014-05-05  Android        0.0                False   \n",
       "2       1.00     2014-01-07   iPhone        0.0                False   \n",
       "3       1.14     2014-06-29   iPhone       20.0                 True   \n",
       "4       1.19     2014-03-15  Android       11.8                False   \n",
       "\n",
       "   weekday_pct  avg_dist  avg_rating_by_driver  rider  \n",
       "0         46.2      3.67                   5.0      1  \n",
       "1         50.0      8.26                   5.0      0  \n",
       "2        100.0      0.77                   5.0      0  \n",
       "3         80.0      2.36                   4.9      1  \n",
       "4         82.4      3.13                   4.9      0  "
      ]
     },
     "execution_count": 42,
     "metadata": {},
     "output_type": "execute_result"
    }
   ],
   "source": [
    "# Let's convert target variable (rider) into numerical\n",
    "retain_df.rider = (retain_df.rider == 'active').astype(int)\n",
    "retain_df.head()"
   ]
  },
  {
   "cell_type": "code",
   "execution_count": 43,
   "metadata": {},
   "outputs": [
    {
     "name": "stdout",
     "output_type": "stream",
     "text": [
      "<class 'pandas.core.frame.DataFrame'>\n",
      "RangeIndex: 50000 entries, 0 to 49999\n",
      "Data columns (total 13 columns):\n",
      "city                      50000 non-null object\n",
      "trips_in_first_30_days    50000 non-null int64\n",
      "signup_date               50000 non-null datetime64[ns]\n",
      "avg_rating_of_driver      41878 non-null float64\n",
      "avg_surge                 50000 non-null float64\n",
      "last_trip_date            50000 non-null datetime64[ns]\n",
      "phone                     49604 non-null object\n",
      "surge_pct                 50000 non-null float64\n",
      "ultimate_black_user       50000 non-null bool\n",
      "weekday_pct               50000 non-null float64\n",
      "avg_dist                  50000 non-null float64\n",
      "avg_rating_by_driver      49799 non-null float64\n",
      "rider                     50000 non-null int64\n",
      "dtypes: bool(1), datetime64[ns](2), float64(6), int64(2), object(2)\n",
      "memory usage: 4.6+ MB\n"
     ]
    }
   ],
   "source": [
    "retain_df.info()"
   ]
  },
  {
   "cell_type": "code",
   "execution_count": 44,
   "metadata": {},
   "outputs": [],
   "source": [
    "# There are null values in 'avg_rating_of_driver', 'phone', and 'avg_rating_by_driver'\n",
    "retain_df['avg_rating_by_driver'].fillna(retain_df['avg_rating_by_driver'].mean(), inplace=True)\n",
    "retain_df['avg_rating_of_driver'].fillna(retain_df['avg_rating_of_driver'].mean(), inplace=True)\n",
    "retain_df['phone'].fillna('iPhone', inplace=True)"
   ]
  },
  {
   "cell_type": "code",
   "execution_count": 45,
   "metadata": {},
   "outputs": [
    {
     "name": "stdout",
     "output_type": "stream",
     "text": [
      "<class 'pandas.core.frame.DataFrame'>\n",
      "RangeIndex: 50000 entries, 0 to 49999\n",
      "Data columns (total 13 columns):\n",
      "city                      50000 non-null object\n",
      "trips_in_first_30_days    50000 non-null int64\n",
      "signup_date               50000 non-null datetime64[ns]\n",
      "avg_rating_of_driver      50000 non-null float64\n",
      "avg_surge                 50000 non-null float64\n",
      "last_trip_date            50000 non-null datetime64[ns]\n",
      "phone                     50000 non-null object\n",
      "surge_pct                 50000 non-null float64\n",
      "ultimate_black_user       50000 non-null bool\n",
      "weekday_pct               50000 non-null float64\n",
      "avg_dist                  50000 non-null float64\n",
      "avg_rating_by_driver      50000 non-null float64\n",
      "rider                     50000 non-null int64\n",
      "dtypes: bool(1), datetime64[ns](2), float64(6), int64(2), object(2)\n",
      "memory usage: 4.6+ MB\n"
     ]
    }
   ],
   "source": [
    "retain_df.info()"
   ]
  },
  {
   "cell_type": "code",
   "execution_count": 46,
   "metadata": {},
   "outputs": [
    {
     "data": {
      "text/plain": [
       "(50000, 13)"
      ]
     },
     "execution_count": 46,
     "metadata": {},
     "output_type": "execute_result"
    }
   ],
   "source": [
    "retain_df.shape"
   ]
  },
  {
   "cell_type": "code",
   "execution_count": 47,
   "metadata": {},
   "outputs": [
    {
     "data": {
      "text/html": [
       "<div>\n",
       "<style scoped>\n",
       "    .dataframe tbody tr th:only-of-type {\n",
       "        vertical-align: middle;\n",
       "    }\n",
       "\n",
       "    .dataframe tbody tr th {\n",
       "        vertical-align: top;\n",
       "    }\n",
       "\n",
       "    .dataframe thead th {\n",
       "        text-align: right;\n",
       "    }\n",
       "</style>\n",
       "<table border=\"1\" class=\"dataframe\">\n",
       "  <thead>\n",
       "    <tr style=\"text-align: right;\">\n",
       "      <th></th>\n",
       "      <th>city</th>\n",
       "      <th>trips_in_first_30_days</th>\n",
       "      <th>avg_rating_of_driver</th>\n",
       "      <th>avg_surge</th>\n",
       "      <th>phone</th>\n",
       "      <th>surge_pct</th>\n",
       "      <th>ultimate_black_user</th>\n",
       "      <th>weekday_pct</th>\n",
       "      <th>avg_dist</th>\n",
       "      <th>avg_rating_by_driver</th>\n",
       "      <th>rider</th>\n",
       "    </tr>\n",
       "  </thead>\n",
       "  <tbody>\n",
       "    <tr>\n",
       "      <td>0</td>\n",
       "      <td>King's Landing</td>\n",
       "      <td>4</td>\n",
       "      <td>4.7</td>\n",
       "      <td>1.10</td>\n",
       "      <td>iPhone</td>\n",
       "      <td>15.4</td>\n",
       "      <td>True</td>\n",
       "      <td>46.2</td>\n",
       "      <td>3.67</td>\n",
       "      <td>5.0</td>\n",
       "      <td>1</td>\n",
       "    </tr>\n",
       "    <tr>\n",
       "      <td>1</td>\n",
       "      <td>Astapor</td>\n",
       "      <td>0</td>\n",
       "      <td>5.0</td>\n",
       "      <td>1.00</td>\n",
       "      <td>Android</td>\n",
       "      <td>0.0</td>\n",
       "      <td>False</td>\n",
       "      <td>50.0</td>\n",
       "      <td>8.26</td>\n",
       "      <td>5.0</td>\n",
       "      <td>0</td>\n",
       "    </tr>\n",
       "    <tr>\n",
       "      <td>2</td>\n",
       "      <td>Astapor</td>\n",
       "      <td>3</td>\n",
       "      <td>4.3</td>\n",
       "      <td>1.00</td>\n",
       "      <td>iPhone</td>\n",
       "      <td>0.0</td>\n",
       "      <td>False</td>\n",
       "      <td>100.0</td>\n",
       "      <td>0.77</td>\n",
       "      <td>5.0</td>\n",
       "      <td>0</td>\n",
       "    </tr>\n",
       "    <tr>\n",
       "      <td>3</td>\n",
       "      <td>King's Landing</td>\n",
       "      <td>9</td>\n",
       "      <td>4.6</td>\n",
       "      <td>1.14</td>\n",
       "      <td>iPhone</td>\n",
       "      <td>20.0</td>\n",
       "      <td>True</td>\n",
       "      <td>80.0</td>\n",
       "      <td>2.36</td>\n",
       "      <td>4.9</td>\n",
       "      <td>1</td>\n",
       "    </tr>\n",
       "    <tr>\n",
       "      <td>4</td>\n",
       "      <td>Winterfell</td>\n",
       "      <td>14</td>\n",
       "      <td>4.4</td>\n",
       "      <td>1.19</td>\n",
       "      <td>Android</td>\n",
       "      <td>11.8</td>\n",
       "      <td>False</td>\n",
       "      <td>82.4</td>\n",
       "      <td>3.13</td>\n",
       "      <td>4.9</td>\n",
       "      <td>0</td>\n",
       "    </tr>\n",
       "  </tbody>\n",
       "</table>\n",
       "</div>"
      ],
      "text/plain": [
       "             city  trips_in_first_30_days  avg_rating_of_driver  avg_surge  \\\n",
       "0  King's Landing                       4                   4.7       1.10   \n",
       "1         Astapor                       0                   5.0       1.00   \n",
       "2         Astapor                       3                   4.3       1.00   \n",
       "3  King's Landing                       9                   4.6       1.14   \n",
       "4      Winterfell                      14                   4.4       1.19   \n",
       "\n",
       "     phone  surge_pct  ultimate_black_user  weekday_pct  avg_dist  \\\n",
       "0   iPhone       15.4                 True         46.2      3.67   \n",
       "1  Android        0.0                False         50.0      8.26   \n",
       "2   iPhone        0.0                False        100.0      0.77   \n",
       "3   iPhone       20.0                 True         80.0      2.36   \n",
       "4  Android       11.8                False         82.4      3.13   \n",
       "\n",
       "   avg_rating_by_driver  rider  \n",
       "0                   5.0      1  \n",
       "1                   5.0      0  \n",
       "2                   5.0      0  \n",
       "3                   4.9      1  \n",
       "4                   4.9      0  "
      ]
     },
     "execution_count": 47,
     "metadata": {},
     "output_type": "execute_result"
    }
   ],
   "source": [
    "# drop the columns not needed\n",
    "retain_df.drop(['last_trip_date', 'signup_date'], axis=1, inplace=True)\n",
    "retain_df.head()"
   ]
  },
  {
   "cell_type": "code",
   "execution_count": 48,
   "metadata": {},
   "outputs": [
    {
     "name": "stdout",
     "output_type": "stream",
     "text": [
      "<class 'pandas.core.frame.DataFrame'>\n",
      "RangeIndex: 50000 entries, 0 to 49999\n",
      "Data columns (total 11 columns):\n",
      "city                      50000 non-null object\n",
      "trips_in_first_30_days    50000 non-null int64\n",
      "avg_rating_of_driver      50000 non-null float64\n",
      "avg_surge                 50000 non-null float64\n",
      "phone                     50000 non-null object\n",
      "surge_pct                 50000 non-null float64\n",
      "ultimate_black_user       50000 non-null bool\n",
      "weekday_pct               50000 non-null float64\n",
      "avg_dist                  50000 non-null float64\n",
      "avg_rating_by_driver      50000 non-null float64\n",
      "rider                     50000 non-null int64\n",
      "dtypes: bool(1), float64(6), int64(2), object(2)\n",
      "memory usage: 3.9+ MB\n"
     ]
    }
   ],
   "source": [
    "retain_df.info()"
   ]
  },
  {
   "cell_type": "code",
   "execution_count": 49,
   "metadata": {},
   "outputs": [
    {
     "data": {
      "text/plain": [
       "(50000, 11)"
      ]
     },
     "execution_count": 49,
     "metadata": {},
     "output_type": "execute_result"
    }
   ],
   "source": [
    "retain_df.shape"
   ]
  },
  {
   "cell_type": "code",
   "execution_count": 50,
   "metadata": {},
   "outputs": [
    {
     "data": {
      "text/html": [
       "<div>\n",
       "<style scoped>\n",
       "    .dataframe tbody tr th:only-of-type {\n",
       "        vertical-align: middle;\n",
       "    }\n",
       "\n",
       "    .dataframe tbody tr th {\n",
       "        vertical-align: top;\n",
       "    }\n",
       "\n",
       "    .dataframe thead th {\n",
       "        text-align: right;\n",
       "    }\n",
       "</style>\n",
       "<table border=\"1\" class=\"dataframe\">\n",
       "  <thead>\n",
       "    <tr style=\"text-align: right;\">\n",
       "      <th></th>\n",
       "      <th>city</th>\n",
       "      <th>trips_in_first_30_days</th>\n",
       "      <th>avg_rating_of_driver</th>\n",
       "      <th>avg_surge</th>\n",
       "      <th>phone</th>\n",
       "      <th>surge_pct</th>\n",
       "      <th>ultimate_black_user</th>\n",
       "      <th>weekday_pct</th>\n",
       "      <th>avg_dist</th>\n",
       "      <th>avg_rating_by_driver</th>\n",
       "      <th>rider</th>\n",
       "    </tr>\n",
       "  </thead>\n",
       "  <tbody>\n",
       "    <tr>\n",
       "      <td>0</td>\n",
       "      <td>King's Landing</td>\n",
       "      <td>4</td>\n",
       "      <td>4.7</td>\n",
       "      <td>1.10</td>\n",
       "      <td>iPhone</td>\n",
       "      <td>15.4</td>\n",
       "      <td>1</td>\n",
       "      <td>46.2</td>\n",
       "      <td>3.67</td>\n",
       "      <td>5.0</td>\n",
       "      <td>1</td>\n",
       "    </tr>\n",
       "    <tr>\n",
       "      <td>1</td>\n",
       "      <td>Astapor</td>\n",
       "      <td>0</td>\n",
       "      <td>5.0</td>\n",
       "      <td>1.00</td>\n",
       "      <td>Android</td>\n",
       "      <td>0.0</td>\n",
       "      <td>0</td>\n",
       "      <td>50.0</td>\n",
       "      <td>8.26</td>\n",
       "      <td>5.0</td>\n",
       "      <td>0</td>\n",
       "    </tr>\n",
       "    <tr>\n",
       "      <td>2</td>\n",
       "      <td>Astapor</td>\n",
       "      <td>3</td>\n",
       "      <td>4.3</td>\n",
       "      <td>1.00</td>\n",
       "      <td>iPhone</td>\n",
       "      <td>0.0</td>\n",
       "      <td>0</td>\n",
       "      <td>100.0</td>\n",
       "      <td>0.77</td>\n",
       "      <td>5.0</td>\n",
       "      <td>0</td>\n",
       "    </tr>\n",
       "    <tr>\n",
       "      <td>3</td>\n",
       "      <td>King's Landing</td>\n",
       "      <td>9</td>\n",
       "      <td>4.6</td>\n",
       "      <td>1.14</td>\n",
       "      <td>iPhone</td>\n",
       "      <td>20.0</td>\n",
       "      <td>1</td>\n",
       "      <td>80.0</td>\n",
       "      <td>2.36</td>\n",
       "      <td>4.9</td>\n",
       "      <td>1</td>\n",
       "    </tr>\n",
       "    <tr>\n",
       "      <td>4</td>\n",
       "      <td>Winterfell</td>\n",
       "      <td>14</td>\n",
       "      <td>4.4</td>\n",
       "      <td>1.19</td>\n",
       "      <td>Android</td>\n",
       "      <td>11.8</td>\n",
       "      <td>0</td>\n",
       "      <td>82.4</td>\n",
       "      <td>3.13</td>\n",
       "      <td>4.9</td>\n",
       "      <td>0</td>\n",
       "    </tr>\n",
       "  </tbody>\n",
       "</table>\n",
       "</div>"
      ],
      "text/plain": [
       "             city  trips_in_first_30_days  avg_rating_of_driver  avg_surge  \\\n",
       "0  King's Landing                       4                   4.7       1.10   \n",
       "1         Astapor                       0                   5.0       1.00   \n",
       "2         Astapor                       3                   4.3       1.00   \n",
       "3  King's Landing                       9                   4.6       1.14   \n",
       "4      Winterfell                      14                   4.4       1.19   \n",
       "\n",
       "     phone  surge_pct  ultimate_black_user  weekday_pct  avg_dist  \\\n",
       "0   iPhone       15.4                    1         46.2      3.67   \n",
       "1  Android        0.0                    0         50.0      8.26   \n",
       "2   iPhone        0.0                    0        100.0      0.77   \n",
       "3   iPhone       20.0                    1         80.0      2.36   \n",
       "4  Android       11.8                    0         82.4      3.13   \n",
       "\n",
       "   avg_rating_by_driver  rider  \n",
       "0                   5.0      1  \n",
       "1                   5.0      0  \n",
       "2                   5.0      0  \n",
       "3                   4.9      1  \n",
       "4                   4.9      0  "
      ]
     },
     "execution_count": 50,
     "metadata": {},
     "output_type": "execute_result"
    }
   ],
   "source": [
    "# convert ultimate_black_user from bool into numerical\n",
    "retain_df.ultimate_black_user = (retain_df.ultimate_black_user).astype(int)\n",
    "retain_df.head()"
   ]
  },
  {
   "cell_type": "code",
   "execution_count": 51,
   "metadata": {},
   "outputs": [
    {
     "name": "stdout",
     "output_type": "stream",
     "text": [
      "<class 'pandas.core.frame.DataFrame'>\n",
      "RangeIndex: 50000 entries, 0 to 49999\n",
      "Data columns (total 11 columns):\n",
      "city                      50000 non-null object\n",
      "trips_in_first_30_days    50000 non-null int64\n",
      "avg_rating_of_driver      50000 non-null float64\n",
      "avg_surge                 50000 non-null float64\n",
      "phone                     50000 non-null object\n",
      "surge_pct                 50000 non-null float64\n",
      "ultimate_black_user       50000 non-null int64\n",
      "weekday_pct               50000 non-null float64\n",
      "avg_dist                  50000 non-null float64\n",
      "avg_rating_by_driver      50000 non-null float64\n",
      "rider                     50000 non-null int64\n",
      "dtypes: float64(6), int64(3), object(2)\n",
      "memory usage: 4.2+ MB\n"
     ]
    }
   ],
   "source": [
    "retain_df.info()"
   ]
  },
  {
   "cell_type": "code",
   "execution_count": 52,
   "metadata": {},
   "outputs": [],
   "source": [
    "y = retain_df.rider\n",
    "\n",
    "X = retain_df.drop(['rider'], axis=1)"
   ]
  },
  {
   "cell_type": "code",
   "execution_count": 53,
   "metadata": {},
   "outputs": [
    {
     "data": {
      "text/html": [
       "<div>\n",
       "<style scoped>\n",
       "    .dataframe tbody tr th:only-of-type {\n",
       "        vertical-align: middle;\n",
       "    }\n",
       "\n",
       "    .dataframe tbody tr th {\n",
       "        vertical-align: top;\n",
       "    }\n",
       "\n",
       "    .dataframe thead th {\n",
       "        text-align: right;\n",
       "    }\n",
       "</style>\n",
       "<table border=\"1\" class=\"dataframe\">\n",
       "  <thead>\n",
       "    <tr style=\"text-align: right;\">\n",
       "      <th></th>\n",
       "      <th>trips_in_first_30_days</th>\n",
       "      <th>avg_rating_of_driver</th>\n",
       "      <th>avg_surge</th>\n",
       "      <th>surge_pct</th>\n",
       "      <th>ultimate_black_user</th>\n",
       "      <th>weekday_pct</th>\n",
       "      <th>avg_dist</th>\n",
       "      <th>avg_rating_by_driver</th>\n",
       "      <th>city_Astapor</th>\n",
       "      <th>city_King's Landing</th>\n",
       "      <th>city_Winterfell</th>\n",
       "      <th>Android</th>\n",
       "      <th>iPhone</th>\n",
       "    </tr>\n",
       "  </thead>\n",
       "  <tbody>\n",
       "    <tr>\n",
       "      <td>0</td>\n",
       "      <td>4</td>\n",
       "      <td>4.7</td>\n",
       "      <td>1.10</td>\n",
       "      <td>15.4</td>\n",
       "      <td>1</td>\n",
       "      <td>46.2</td>\n",
       "      <td>3.67</td>\n",
       "      <td>5.0</td>\n",
       "      <td>0</td>\n",
       "      <td>1</td>\n",
       "      <td>0</td>\n",
       "      <td>0</td>\n",
       "      <td>1</td>\n",
       "    </tr>\n",
       "    <tr>\n",
       "      <td>1</td>\n",
       "      <td>0</td>\n",
       "      <td>5.0</td>\n",
       "      <td>1.00</td>\n",
       "      <td>0.0</td>\n",
       "      <td>0</td>\n",
       "      <td>50.0</td>\n",
       "      <td>8.26</td>\n",
       "      <td>5.0</td>\n",
       "      <td>1</td>\n",
       "      <td>0</td>\n",
       "      <td>0</td>\n",
       "      <td>1</td>\n",
       "      <td>0</td>\n",
       "    </tr>\n",
       "    <tr>\n",
       "      <td>2</td>\n",
       "      <td>3</td>\n",
       "      <td>4.3</td>\n",
       "      <td>1.00</td>\n",
       "      <td>0.0</td>\n",
       "      <td>0</td>\n",
       "      <td>100.0</td>\n",
       "      <td>0.77</td>\n",
       "      <td>5.0</td>\n",
       "      <td>1</td>\n",
       "      <td>0</td>\n",
       "      <td>0</td>\n",
       "      <td>0</td>\n",
       "      <td>1</td>\n",
       "    </tr>\n",
       "    <tr>\n",
       "      <td>3</td>\n",
       "      <td>9</td>\n",
       "      <td>4.6</td>\n",
       "      <td>1.14</td>\n",
       "      <td>20.0</td>\n",
       "      <td>1</td>\n",
       "      <td>80.0</td>\n",
       "      <td>2.36</td>\n",
       "      <td>4.9</td>\n",
       "      <td>0</td>\n",
       "      <td>1</td>\n",
       "      <td>0</td>\n",
       "      <td>0</td>\n",
       "      <td>1</td>\n",
       "    </tr>\n",
       "    <tr>\n",
       "      <td>4</td>\n",
       "      <td>14</td>\n",
       "      <td>4.4</td>\n",
       "      <td>1.19</td>\n",
       "      <td>11.8</td>\n",
       "      <td>0</td>\n",
       "      <td>82.4</td>\n",
       "      <td>3.13</td>\n",
       "      <td>4.9</td>\n",
       "      <td>0</td>\n",
       "      <td>0</td>\n",
       "      <td>1</td>\n",
       "      <td>1</td>\n",
       "      <td>0</td>\n",
       "    </tr>\n",
       "  </tbody>\n",
       "</table>\n",
       "</div>"
      ],
      "text/plain": [
       "   trips_in_first_30_days  avg_rating_of_driver  avg_surge  surge_pct  \\\n",
       "0                       4                   4.7       1.10       15.4   \n",
       "1                       0                   5.0       1.00        0.0   \n",
       "2                       3                   4.3       1.00        0.0   \n",
       "3                       9                   4.6       1.14       20.0   \n",
       "4                      14                   4.4       1.19       11.8   \n",
       "\n",
       "   ultimate_black_user  weekday_pct  avg_dist  avg_rating_by_driver  \\\n",
       "0                    1         46.2      3.67                   5.0   \n",
       "1                    0         50.0      8.26                   5.0   \n",
       "2                    0        100.0      0.77                   5.0   \n",
       "3                    1         80.0      2.36                   4.9   \n",
       "4                    0         82.4      3.13                   4.9   \n",
       "\n",
       "   city_Astapor  city_King's Landing  city_Winterfell  Android  iPhone  \n",
       "0             0                    1                0        0       1  \n",
       "1             1                    0                0        1       0  \n",
       "2             1                    0                0        0       1  \n",
       "3             0                    1                0        0       1  \n",
       "4             0                    0                1        1       0  "
      ]
     },
     "execution_count": 53,
     "metadata": {},
     "output_type": "execute_result"
    }
   ],
   "source": [
    "# get dummy variables\n",
    "X = X.drop(['phone'], axis=1)\n",
    "\n",
    "phone = pd.get_dummies(retain_df.phone, drop_first=False) # I did not drop any columns for phone, because zero might result in NANs.\n",
    "city = pd.get_dummies(retain_df.city, drop_first=True) # I dropped a city for the city metric\n",
    "\n",
    "X = pd.get_dummies(X, drop_first=False)\n",
    "X['Android'] = phone.Android\n",
    "X['iPhone'] = phone.iPhone\n",
    "\n",
    "X.head()"
   ]
  },
  {
   "cell_type": "code",
   "execution_count": 54,
   "metadata": {},
   "outputs": [
    {
     "data": {
      "text/html": [
       "<div>\n",
       "<style scoped>\n",
       "    .dataframe tbody tr th:only-of-type {\n",
       "        vertical-align: middle;\n",
       "    }\n",
       "\n",
       "    .dataframe tbody tr th {\n",
       "        vertical-align: top;\n",
       "    }\n",
       "\n",
       "    .dataframe thead th {\n",
       "        text-align: right;\n",
       "    }\n",
       "</style>\n",
       "<table border=\"1\" class=\"dataframe\">\n",
       "  <thead>\n",
       "    <tr style=\"text-align: right;\">\n",
       "      <th></th>\n",
       "      <th>trips_in_first_30_days</th>\n",
       "      <th>avg_rating_of_driver</th>\n",
       "      <th>avg_surge</th>\n",
       "      <th>surge_pct</th>\n",
       "      <th>ultimate_black_user</th>\n",
       "      <th>weekday_pct</th>\n",
       "      <th>avg_dist</th>\n",
       "      <th>avg_rating_by_driver</th>\n",
       "      <th>city_Astapor</th>\n",
       "      <th>city_King's Landing</th>\n",
       "      <th>city_Winterfell</th>\n",
       "      <th>Android</th>\n",
       "      <th>iPhone</th>\n",
       "    </tr>\n",
       "  </thead>\n",
       "  <tbody>\n",
       "    <tr>\n",
       "      <td>49995</td>\n",
       "      <td>0</td>\n",
       "      <td>5.000000</td>\n",
       "      <td>1.0</td>\n",
       "      <td>0.0</td>\n",
       "      <td>0</td>\n",
       "      <td>100.0</td>\n",
       "      <td>5.63</td>\n",
       "      <td>4.2</td>\n",
       "      <td>0</td>\n",
       "      <td>1</td>\n",
       "      <td>0</td>\n",
       "      <td>0</td>\n",
       "      <td>1</td>\n",
       "    </tr>\n",
       "    <tr>\n",
       "      <td>49996</td>\n",
       "      <td>1</td>\n",
       "      <td>4.601559</td>\n",
       "      <td>1.0</td>\n",
       "      <td>0.0</td>\n",
       "      <td>0</td>\n",
       "      <td>0.0</td>\n",
       "      <td>0.00</td>\n",
       "      <td>4.0</td>\n",
       "      <td>1</td>\n",
       "      <td>0</td>\n",
       "      <td>0</td>\n",
       "      <td>0</td>\n",
       "      <td>1</td>\n",
       "    </tr>\n",
       "    <tr>\n",
       "      <td>49997</td>\n",
       "      <td>0</td>\n",
       "      <td>5.000000</td>\n",
       "      <td>1.0</td>\n",
       "      <td>0.0</td>\n",
       "      <td>1</td>\n",
       "      <td>100.0</td>\n",
       "      <td>3.86</td>\n",
       "      <td>5.0</td>\n",
       "      <td>0</td>\n",
       "      <td>0</td>\n",
       "      <td>1</td>\n",
       "      <td>1</td>\n",
       "      <td>0</td>\n",
       "    </tr>\n",
       "    <tr>\n",
       "      <td>49998</td>\n",
       "      <td>2</td>\n",
       "      <td>3.000000</td>\n",
       "      <td>1.0</td>\n",
       "      <td>0.0</td>\n",
       "      <td>0</td>\n",
       "      <td>100.0</td>\n",
       "      <td>4.58</td>\n",
       "      <td>3.5</td>\n",
       "      <td>1</td>\n",
       "      <td>0</td>\n",
       "      <td>0</td>\n",
       "      <td>0</td>\n",
       "      <td>1</td>\n",
       "    </tr>\n",
       "    <tr>\n",
       "      <td>49999</td>\n",
       "      <td>0</td>\n",
       "      <td>4.601559</td>\n",
       "      <td>1.0</td>\n",
       "      <td>0.0</td>\n",
       "      <td>0</td>\n",
       "      <td>0.0</td>\n",
       "      <td>3.49</td>\n",
       "      <td>5.0</td>\n",
       "      <td>1</td>\n",
       "      <td>0</td>\n",
       "      <td>0</td>\n",
       "      <td>1</td>\n",
       "      <td>0</td>\n",
       "    </tr>\n",
       "  </tbody>\n",
       "</table>\n",
       "</div>"
      ],
      "text/plain": [
       "       trips_in_first_30_days  avg_rating_of_driver  avg_surge  surge_pct  \\\n",
       "49995                       0              5.000000        1.0        0.0   \n",
       "49996                       1              4.601559        1.0        0.0   \n",
       "49997                       0              5.000000        1.0        0.0   \n",
       "49998                       2              3.000000        1.0        0.0   \n",
       "49999                       0              4.601559        1.0        0.0   \n",
       "\n",
       "       ultimate_black_user  weekday_pct  avg_dist  avg_rating_by_driver  \\\n",
       "49995                    0        100.0      5.63                   4.2   \n",
       "49996                    0          0.0      0.00                   4.0   \n",
       "49997                    1        100.0      3.86                   5.0   \n",
       "49998                    0        100.0      4.58                   3.5   \n",
       "49999                    0          0.0      3.49                   5.0   \n",
       "\n",
       "       city_Astapor  city_King's Landing  city_Winterfell  Android  iPhone  \n",
       "49995             0                    1                0        0       1  \n",
       "49996             1                    0                0        0       1  \n",
       "49997             0                    0                1        1       0  \n",
       "49998             1                    0                0        0       1  \n",
       "49999             1                    0                0        1       0  "
      ]
     },
     "execution_count": 54,
     "metadata": {},
     "output_type": "execute_result"
    }
   ],
   "source": [
    "X.tail()"
   ]
  },
  {
   "cell_type": "code",
   "execution_count": 55,
   "metadata": {},
   "outputs": [
    {
     "data": {
      "text/plain": [
       "(50000,)"
      ]
     },
     "execution_count": 55,
     "metadata": {},
     "output_type": "execute_result"
    }
   ],
   "source": [
    "y.shape"
   ]
  },
  {
   "cell_type": "code",
   "execution_count": 56,
   "metadata": {},
   "outputs": [
    {
     "data": {
      "text/plain": [
       "(50000, 13)"
      ]
     },
     "execution_count": 56,
     "metadata": {},
     "output_type": "execute_result"
    }
   ],
   "source": [
    "X.shape"
   ]
  },
  {
   "cell_type": "code",
   "execution_count": 57,
   "metadata": {},
   "outputs": [],
   "source": [
    "from sklearn.preprocessing import StandardScaler\n",
    "from sklearn.model_selection import train_test_split, GridSearchCV\n",
    "from sklearn.metrics import classification_report, accuracy_score, confusion_matrix\n",
    "from sklearn.linear_model import LogisticRegression\n",
    "from sklearn.neighbors import KNeighborsClassifier\n",
    "from sklearn.ensemble import GradientBoostingClassifier, RandomForestClassifier\n",
    "from sklearn.svm import SVC, LinearSVC"
   ]
  },
  {
   "cell_type": "code",
   "execution_count": 58,
   "metadata": {},
   "outputs": [],
   "source": [
    "# train test split the data\n",
    "Xtrain, Xtest, ytrain, ytest = train_test_split(X.values, y.values, test_size=0.2, random_state=21)"
   ]
  },
  {
   "cell_type": "markdown",
   "metadata": {},
   "source": [
    "### Logistic Regression"
   ]
  },
  {
   "cell_type": "code",
   "execution_count": 59,
   "metadata": {},
   "outputs": [
    {
     "name": "stdout",
     "output_type": "stream",
     "text": [
      "acccuracy_score:  0.7191\n"
     ]
    }
   ],
   "source": [
    "# Instantiate logistic regression\n",
    "logreg = LogisticRegression()\n",
    "\n",
    "# fit on the training data\n",
    "logreg.fit(Xtrain,ytrain)\n",
    "\n",
    "# accuracy score\n",
    "print(\"acccuracy_score: \", accuracy_score(logreg.predict(Xtest), ytest))"
   ]
  },
  {
   "cell_type": "code",
   "execution_count": 60,
   "metadata": {},
   "outputs": [
    {
     "name": "stdout",
     "output_type": "stream",
     "text": [
      "Best parameters: {'C': 0.01}\n",
      "Best score: 0.72462\n",
      "Accuracy score: 0.72\n"
     ]
    }
   ],
   "source": [
    "grid = [0.001, 0.01, 0.1, 1, 10, 100]\n",
    "\n",
    "param_grid = {'C': grid}\n",
    "\n",
    "\n",
    "logreg_cv = GridSearchCV(logreg, param_grid=param_grid, cv=5)\n",
    "\n",
    "logreg_cv.fit(X.values, y.values)\n",
    "\n",
    "print(\"Best parameters:\", logreg_cv.best_params_)\n",
    "print(\"Best score:\", logreg_cv.best_score_)\n",
    "\n",
    "clf_best = LogisticRegression(C=logreg_cv.best_params_['C'])\n",
    "clf_best.fit(Xtrain,ytrain)\n",
    "print(\"Accuracy score:\", accuracy_score(clf_best.predict(Xtest),ytest))"
   ]
  },
  {
   "cell_type": "markdown",
   "metadata": {},
   "source": [
    "##### The accuracy score increased with GridSearchCV so I'll use this one below"
   ]
  },
  {
   "cell_type": "code",
   "execution_count": 61,
   "metadata": {},
   "outputs": [
    {
     "name": "stdout",
     "output_type": "stream",
     "text": [
      "accuracy score:  0.72\n",
      "******************************\n",
      "Confusion matrix:  [[5476  844]\n",
      " [1956 1724]]\n",
      "******************************\n",
      "              precision    recall  f1-score   support\n",
      "\n",
      "           0       0.74      0.87      0.80      6320\n",
      "           1       0.67      0.47      0.55      3680\n",
      "\n",
      "   micro avg       0.72      0.72      0.72     10000\n",
      "   macro avg       0.70      0.67      0.67     10000\n",
      "weighted avg       0.71      0.72      0.71     10000\n",
      "\n"
     ]
    }
   ],
   "source": [
    "clf = LogisticRegression(C=0.01) # best parameter from above\n",
    "\n",
    "# Now fit the model of the training data\n",
    "clf.fit(Xtrain, ytrain)\n",
    "\n",
    "ylr_pred = clf.predict(Xtest)\n",
    "\n",
    "# print the accuracy and confusion matrix\n",
    "print('accuracy score: ', accuracy_score(ylr_pred, ytest))\n",
    "print('*'*30)\n",
    "print('Confusion matrix: ', confusion_matrix(ytest, ylr_pred))\n",
    "print('*'*30)\n",
    "print(classification_report(y_true=ytest, y_pred= ylr_pred))"
   ]
  },
  {
   "cell_type": "code",
   "execution_count": 62,
   "metadata": {},
   "outputs": [
    {
     "data": {
      "text/html": [
       "<div>\n",
       "<style scoped>\n",
       "    .dataframe tbody tr th:only-of-type {\n",
       "        vertical-align: middle;\n",
       "    }\n",
       "\n",
       "    .dataframe tbody tr th {\n",
       "        vertical-align: top;\n",
       "    }\n",
       "\n",
       "    .dataframe thead th {\n",
       "        text-align: right;\n",
       "    }\n",
       "</style>\n",
       "<table border=\"1\" class=\"dataframe\">\n",
       "  <thead>\n",
       "    <tr style=\"text-align: right;\">\n",
       "      <th></th>\n",
       "      <th>logreg_feature_importance</th>\n",
       "    </tr>\n",
       "    <tr>\n",
       "      <th>feature_name</th>\n",
       "      <th></th>\n",
       "    </tr>\n",
       "  </thead>\n",
       "  <tbody>\n",
       "    <tr>\n",
       "      <td>trips_in_first_30_days</td>\n",
       "      <td>0.124165</td>\n",
       "    </tr>\n",
       "    <tr>\n",
       "      <td>avg_rating_of_driver</td>\n",
       "      <td>-0.054438</td>\n",
       "    </tr>\n",
       "    <tr>\n",
       "      <td>avg_surge</td>\n",
       "      <td>-0.110466</td>\n",
       "    </tr>\n",
       "    <tr>\n",
       "      <td>surge_pct</td>\n",
       "      <td>0.003073</td>\n",
       "    </tr>\n",
       "    <tr>\n",
       "      <td>ultimate_black_user</td>\n",
       "      <td>0.837178</td>\n",
       "    </tr>\n",
       "    <tr>\n",
       "      <td>weekday_pct</td>\n",
       "      <td>0.000714</td>\n",
       "    </tr>\n",
       "    <tr>\n",
       "      <td>avg_dist</td>\n",
       "      <td>-0.035756</td>\n",
       "    </tr>\n",
       "    <tr>\n",
       "      <td>avg_rating_by_driver</td>\n",
       "      <td>-0.164554</td>\n",
       "    </tr>\n",
       "    <tr>\n",
       "      <td>city_Astapor</td>\n",
       "      <td>-0.741422</td>\n",
       "    </tr>\n",
       "    <tr>\n",
       "      <td>city_King's Landing</td>\n",
       "      <td>0.949340</td>\n",
       "    </tr>\n",
       "    <tr>\n",
       "      <td>city_Winterfell</td>\n",
       "      <td>-0.223113</td>\n",
       "    </tr>\n",
       "    <tr>\n",
       "      <td>Android</td>\n",
       "      <td>-0.559445</td>\n",
       "    </tr>\n",
       "    <tr>\n",
       "      <td>iPhone</td>\n",
       "      <td>0.544250</td>\n",
       "    </tr>\n",
       "  </tbody>\n",
       "</table>\n",
       "</div>"
      ],
      "text/plain": [
       "                        logreg_feature_importance\n",
       "feature_name                                     \n",
       "trips_in_first_30_days                   0.124165\n",
       "avg_rating_of_driver                    -0.054438\n",
       "avg_surge                               -0.110466\n",
       "surge_pct                                0.003073\n",
       "ultimate_black_user                      0.837178\n",
       "weekday_pct                              0.000714\n",
       "avg_dist                                -0.035756\n",
       "avg_rating_by_driver                    -0.164554\n",
       "city_Astapor                            -0.741422\n",
       "city_King's Landing                      0.949340\n",
       "city_Winterfell                         -0.223113\n",
       "Android                                 -0.559445\n",
       "iPhone                                   0.544250"
      ]
     },
     "execution_count": 62,
     "metadata": {},
     "output_type": "execute_result"
    }
   ],
   "source": [
    "logreg_feature_importance = pd.DataFrame(np.transpose(clf.coef_), index = X.columns, columns=['feature_importance']).reset_index()\n",
    "logreg_feature_importance.columns = ['feature_name', 'logreg_feature_importance']\n",
    "logreg_feature_importance.set_index('feature_name', inplace=True)\n",
    "logreg_feature_importance"
   ]
  },
  {
   "cell_type": "markdown",
   "metadata": {},
   "source": [
    "### K-Nearest Neighbors"
   ]
  },
  {
   "cell_type": "code",
   "execution_count": 63,
   "metadata": {},
   "outputs": [
    {
     "name": "stdout",
     "output_type": "stream",
     "text": [
      "accuracy score:  0.7464\n",
      "******************************\n",
      "Confusion matrix:  [[5197 1123]\n",
      " [1413 2267]]\n",
      "******************************\n",
      "              precision    recall  f1-score   support\n",
      "\n",
      "           0       0.79      0.82      0.80      6320\n",
      "           1       0.67      0.62      0.64      3680\n",
      "\n",
      "   micro avg       0.75      0.75      0.75     10000\n",
      "   macro avg       0.73      0.72      0.72     10000\n",
      "weighted avg       0.74      0.75      0.74     10000\n",
      "\n"
     ]
    }
   ],
   "source": [
    "knn = KNeighborsClassifier(leaf_size = 10)\n",
    "knn.fit(Xtrain, ytrain)\n",
    "clf_knn = knn.predict(Xtest)\n",
    "# print the accuracy and confusion matrix\n",
    "print('accuracy score: ', accuracy_score(clf_knn, ytest))\n",
    "print('*'*30)\n",
    "print('Confusion matrix: ', confusion_matrix(ytest, clf_knn))\n",
    "print('*'*30)\n",
    "print(classification_report(y_true=ytest, y_pred= clf_knn))"
   ]
  },
  {
   "cell_type": "markdown",
   "metadata": {},
   "source": [
    "### Support Vector Machine"
   ]
  },
  {
   "cell_type": "code",
   "execution_count": 64,
   "metadata": {},
   "outputs": [
    {
     "name": "stdout",
     "output_type": "stream",
     "text": [
      "accuracy score:  0.5096\n",
      "******************************\n",
      "Confusion matrix:  [[1748 4572]\n",
      " [ 332 3348]]\n",
      "******************************\n",
      "              precision    recall  f1-score   support\n",
      "\n",
      "           0       0.84      0.28      0.42      6320\n",
      "           1       0.42      0.91      0.58      3680\n",
      "\n",
      "   micro avg       0.51      0.51      0.51     10000\n",
      "   macro avg       0.63      0.59      0.50     10000\n",
      "weighted avg       0.69      0.51      0.48     10000\n",
      "\n"
     ]
    }
   ],
   "source": [
    "# Instantiate linear SVM\n",
    "svm = LinearSVC()\n",
    "\n",
    "# Fit on the training data\n",
    "svm.fit(Xtrain, ytrain)\n",
    "\n",
    "svm_clf = svm.predict(Xtest)\n",
    "\n",
    "# print the accuracy and confusion matrix\n",
    "print('accuracy score: ', accuracy_score(svm_clf, ytest))\n",
    "print('*'*30)\n",
    "print('Confusion matrix: ', confusion_matrix(ytest, svm_clf))\n",
    "print('*'*30)\n",
    "print(classification_report(y_true=ytest, y_pred= svm_clf))"
   ]
  },
  {
   "cell_type": "code",
   "execution_count": 65,
   "metadata": {},
   "outputs": [
    {
     "data": {
      "text/html": [
       "<div>\n",
       "<style scoped>\n",
       "    .dataframe tbody tr th:only-of-type {\n",
       "        vertical-align: middle;\n",
       "    }\n",
       "\n",
       "    .dataframe tbody tr th {\n",
       "        vertical-align: top;\n",
       "    }\n",
       "\n",
       "    .dataframe thead th {\n",
       "        text-align: right;\n",
       "    }\n",
       "</style>\n",
       "<table border=\"1\" class=\"dataframe\">\n",
       "  <thead>\n",
       "    <tr style=\"text-align: right;\">\n",
       "      <th></th>\n",
       "      <th>svm_feature_importance</th>\n",
       "    </tr>\n",
       "    <tr>\n",
       "      <th>feature_name</th>\n",
       "      <th></th>\n",
       "    </tr>\n",
       "  </thead>\n",
       "  <tbody>\n",
       "    <tr>\n",
       "      <td>trips_in_first_30_days</td>\n",
       "      <td>0.044131</td>\n",
       "    </tr>\n",
       "    <tr>\n",
       "      <td>avg_rating_of_driver</td>\n",
       "      <td>-0.019762</td>\n",
       "    </tr>\n",
       "    <tr>\n",
       "      <td>avg_surge</td>\n",
       "      <td>-0.077337</td>\n",
       "    </tr>\n",
       "    <tr>\n",
       "      <td>surge_pct</td>\n",
       "      <td>0.014267</td>\n",
       "    </tr>\n",
       "    <tr>\n",
       "      <td>ultimate_black_user</td>\n",
       "      <td>0.306796</td>\n",
       "    </tr>\n",
       "    <tr>\n",
       "      <td>weekday_pct</td>\n",
       "      <td>0.014792</td>\n",
       "    </tr>\n",
       "    <tr>\n",
       "      <td>avg_dist</td>\n",
       "      <td>-0.011995</td>\n",
       "    </tr>\n",
       "    <tr>\n",
       "      <td>avg_rating_by_driver</td>\n",
       "      <td>-0.027576</td>\n",
       "    </tr>\n",
       "    <tr>\n",
       "      <td>city_Astapor</td>\n",
       "      <td>-0.348508</td>\n",
       "    </tr>\n",
       "    <tr>\n",
       "      <td>city_King's Landing</td>\n",
       "      <td>0.344887</td>\n",
       "    </tr>\n",
       "    <tr>\n",
       "      <td>city_Winterfell</td>\n",
       "      <td>-0.155137</td>\n",
       "    </tr>\n",
       "    <tr>\n",
       "      <td>Android</td>\n",
       "      <td>-0.266721</td>\n",
       "    </tr>\n",
       "    <tr>\n",
       "      <td>iPhone</td>\n",
       "      <td>0.107963</td>\n",
       "    </tr>\n",
       "  </tbody>\n",
       "</table>\n",
       "</div>"
      ],
      "text/plain": [
       "                        svm_feature_importance\n",
       "feature_name                                  \n",
       "trips_in_first_30_days                0.044131\n",
       "avg_rating_of_driver                 -0.019762\n",
       "avg_surge                            -0.077337\n",
       "surge_pct                             0.014267\n",
       "ultimate_black_user                   0.306796\n",
       "weekday_pct                           0.014792\n",
       "avg_dist                             -0.011995\n",
       "avg_rating_by_driver                 -0.027576\n",
       "city_Astapor                         -0.348508\n",
       "city_King's Landing                   0.344887\n",
       "city_Winterfell                      -0.155137\n",
       "Android                              -0.266721\n",
       "iPhone                                0.107963"
      ]
     },
     "execution_count": 65,
     "metadata": {},
     "output_type": "execute_result"
    }
   ],
   "source": [
    "svm_feature_importance = pd.DataFrame(np.transpose(svm.coef_), index = X.columns, columns=['feature_importance']).reset_index()\n",
    "svm_feature_importance.columns = ['feature_name', 'svm_feature_importance']\n",
    "svm_feature_importance.set_index('feature_name', inplace=True)\n",
    "svm_feature_importance"
   ]
  },
  {
   "cell_type": "markdown",
   "metadata": {},
   "source": [
    "### Gradient Boosting Classifier"
   ]
  },
  {
   "cell_type": "code",
   "execution_count": 66,
   "metadata": {},
   "outputs": [
    {
     "name": "stdout",
     "output_type": "stream",
     "text": [
      "accuracy score:  0.7865\n",
      "******************************\n",
      "Confusion matrix:  [[5438  882]\n",
      " [1253 2427]]\n",
      "******************************\n",
      "              precision    recall  f1-score   support\n",
      "\n",
      "           0       0.81      0.86      0.84      6320\n",
      "           1       0.73      0.66      0.69      3680\n",
      "\n",
      "   micro avg       0.79      0.79      0.79     10000\n",
      "   macro avg       0.77      0.76      0.77     10000\n",
      "weighted avg       0.78      0.79      0.78     10000\n",
      "\n"
     ]
    }
   ],
   "source": [
    "gbc = GradientBoostingClassifier()\n",
    "\n",
    "gbc.fit(Xtrain, ytrain)\n",
    "\n",
    "gbc_clf = gbc.predict(Xtest)\n",
    "# print the accuracy and confusion matrix\n",
    "print('accuracy score: ', accuracy_score(gbc_clf, ytest))\n",
    "print('*'*30)\n",
    "print('Confusion matrix: ', confusion_matrix(ytest, gbc_clf))\n",
    "print('*'*30)\n",
    "print(classification_report(y_true=ytest, y_pred= gbc_clf))"
   ]
  },
  {
   "cell_type": "code",
   "execution_count": 67,
   "metadata": {},
   "outputs": [
    {
     "data": {
      "text/plain": [
       "{'learning_rate': 0.25, 'n_estimators': 150}"
      ]
     },
     "execution_count": 67,
     "metadata": {},
     "output_type": "execute_result"
    }
   ],
   "source": [
    "# now lets do gridsearch\n",
    "parameters = {'learning_rate': [0.1, 0.2, 0.25], 'n_estimators':[100, 150, 200, 250]}\n",
    "clf = GridSearchCV(gbc, parameters, cv=5, scoring='accuracy')\n",
    "clf.fit(Xtrain, ytrain)\n",
    "clf.best_params_"
   ]
  },
  {
   "cell_type": "code",
   "execution_count": 68,
   "metadata": {},
   "outputs": [
    {
     "name": "stdout",
     "output_type": "stream",
     "text": [
      "accuracy score:  0.7865\n",
      "******************************\n",
      "Confusion matrix:  [[5438  882]\n",
      " [1253 2427]]\n",
      "******************************\n",
      "              precision    recall  f1-score   support\n",
      "\n",
      "           0       0.81      0.86      0.84      6320\n",
      "           1       0.73      0.66      0.69      3680\n",
      "\n",
      "   micro avg       0.79      0.79      0.79     10000\n",
      "   macro avg       0.77      0.76      0.77     10000\n",
      "weighted avg       0.78      0.79      0.78     10000\n",
      "\n"
     ]
    }
   ],
   "source": [
    "clf_tuned = GradientBoostingClassifier()\n",
    "clf_tuned.fit(Xtrain, ytrain)\n",
    "clf_pred = clf_tuned.predict(Xtest)\n",
    "# print the accuracy and confusion matrix\n",
    "print('accuracy score: ', accuracy_score(clf_pred, ytest))\n",
    "print('*'*30)\n",
    "print('Confusion matrix: ', confusion_matrix(ytest, clf_pred))\n",
    "print('*'*30)\n",
    "print(classification_report(y_true=ytest, y_pred= clf_pred))"
   ]
  },
  {
   "cell_type": "code",
   "execution_count": 69,
   "metadata": {},
   "outputs": [
    {
     "data": {
      "text/html": [
       "<div>\n",
       "<style scoped>\n",
       "    .dataframe tbody tr th:only-of-type {\n",
       "        vertical-align: middle;\n",
       "    }\n",
       "\n",
       "    .dataframe tbody tr th {\n",
       "        vertical-align: top;\n",
       "    }\n",
       "\n",
       "    .dataframe thead th {\n",
       "        text-align: right;\n",
       "    }\n",
       "</style>\n",
       "<table border=\"1\" class=\"dataframe\">\n",
       "  <thead>\n",
       "    <tr style=\"text-align: right;\">\n",
       "      <th></th>\n",
       "      <th>gbc_feature_importance</th>\n",
       "    </tr>\n",
       "    <tr>\n",
       "      <th>feature_name</th>\n",
       "      <th></th>\n",
       "    </tr>\n",
       "  </thead>\n",
       "  <tbody>\n",
       "    <tr>\n",
       "      <td>trips_in_first_30_days</td>\n",
       "      <td>0.034058</td>\n",
       "    </tr>\n",
       "    <tr>\n",
       "      <td>avg_rating_of_driver</td>\n",
       "      <td>0.011321</td>\n",
       "    </tr>\n",
       "    <tr>\n",
       "      <td>avg_surge</td>\n",
       "      <td>0.005534</td>\n",
       "    </tr>\n",
       "    <tr>\n",
       "      <td>surge_pct</td>\n",
       "      <td>0.177857</td>\n",
       "    </tr>\n",
       "    <tr>\n",
       "      <td>ultimate_black_user</td>\n",
       "      <td>0.072817</td>\n",
       "    </tr>\n",
       "    <tr>\n",
       "      <td>weekday_pct</td>\n",
       "      <td>0.139006</td>\n",
       "    </tr>\n",
       "    <tr>\n",
       "      <td>avg_dist</td>\n",
       "      <td>0.017028</td>\n",
       "    </tr>\n",
       "    <tr>\n",
       "      <td>avg_rating_by_driver</td>\n",
       "      <td>0.250625</td>\n",
       "    </tr>\n",
       "    <tr>\n",
       "      <td>city_Astapor</td>\n",
       "      <td>0.029627</td>\n",
       "    </tr>\n",
       "    <tr>\n",
       "      <td>city_King's Landing</td>\n",
       "      <td>0.167701</td>\n",
       "    </tr>\n",
       "    <tr>\n",
       "      <td>city_Winterfell</td>\n",
       "      <td>0.000000</td>\n",
       "    </tr>\n",
       "    <tr>\n",
       "      <td>Android</td>\n",
       "      <td>0.050276</td>\n",
       "    </tr>\n",
       "    <tr>\n",
       "      <td>iPhone</td>\n",
       "      <td>0.044150</td>\n",
       "    </tr>\n",
       "  </tbody>\n",
       "</table>\n",
       "</div>"
      ],
      "text/plain": [
       "                        gbc_feature_importance\n",
       "feature_name                                  \n",
       "trips_in_first_30_days                0.034058\n",
       "avg_rating_of_driver                  0.011321\n",
       "avg_surge                             0.005534\n",
       "surge_pct                             0.177857\n",
       "ultimate_black_user                   0.072817\n",
       "weekday_pct                           0.139006\n",
       "avg_dist                              0.017028\n",
       "avg_rating_by_driver                  0.250625\n",
       "city_Astapor                          0.029627\n",
       "city_King's Landing                   0.167701\n",
       "city_Winterfell                       0.000000\n",
       "Android                               0.050276\n",
       "iPhone                                0.044150"
      ]
     },
     "execution_count": 69,
     "metadata": {},
     "output_type": "execute_result"
    }
   ],
   "source": [
    "gbc_feature_importance = pd.DataFrame(np.transpose(clf_tuned.feature_importances_), index = X.columns, columns=['feature_importance']).reset_index()\n",
    "gbc_feature_importance.columns = ['feature_name', 'gbc_feature_importance']\n",
    "gbc_feature_importance.set_index('feature_name', inplace=True)\n",
    "gbc_feature_importance"
   ]
  },
  {
   "cell_type": "markdown",
   "metadata": {},
   "source": [
    "## Random Forest Classifier"
   ]
  },
  {
   "cell_type": "code",
   "execution_count": 70,
   "metadata": {},
   "outputs": [
    {
     "name": "stdout",
     "output_type": "stream",
     "text": [
      "accuracy score:  0.7572\n",
      "******************************\n",
      "Confusion matrix:  [[5134 1186]\n",
      " [1242 2438]]\n",
      "******************************\n",
      "              precision    recall  f1-score   support\n",
      "\n",
      "           0       0.81      0.81      0.81      6320\n",
      "           1       0.67      0.66      0.67      3680\n",
      "\n",
      "   micro avg       0.76      0.76      0.76     10000\n",
      "   macro avg       0.74      0.74      0.74     10000\n",
      "weighted avg       0.76      0.76      0.76     10000\n",
      "\n"
     ]
    }
   ],
   "source": [
    "rf = RandomForestClassifier(n_estimators =500)\n",
    "\n",
    "rf.fit(Xtrain, ytrain)\n",
    "\n",
    "rf_pred = rf.predict(Xtest)\n",
    "# print the accuracy and confusion matrix\n",
    "print('accuracy score: ', accuracy_score(rf_pred, ytest))\n",
    "print('*'*30)\n",
    "print('Confusion matrix: ', confusion_matrix(ytest, rf_pred))\n",
    "print('*'*30)\n",
    "print(classification_report(y_true=ytest, y_pred= rf_pred))"
   ]
  },
  {
   "cell_type": "code",
   "execution_count": 71,
   "metadata": {},
   "outputs": [],
   "source": [
    "rf_feature_importance = pd.DataFrame(np.transpose(rf.feature_importances_), index = X.columns, columns=['feature_importance']).reset_index()\n",
    "rf_feature_importance.columns = ['feature_name', 'rf_feature_importance']\n",
    "rf_feature_importance.set_index('feature_name', inplace=True)"
   ]
  },
  {
   "cell_type": "code",
   "execution_count": 72,
   "metadata": {},
   "outputs": [
    {
     "data": {
      "text/html": [
       "<div>\n",
       "<style scoped>\n",
       "    .dataframe tbody tr th:only-of-type {\n",
       "        vertical-align: middle;\n",
       "    }\n",
       "\n",
       "    .dataframe tbody tr th {\n",
       "        vertical-align: top;\n",
       "    }\n",
       "\n",
       "    .dataframe thead th {\n",
       "        text-align: right;\n",
       "    }\n",
       "</style>\n",
       "<table border=\"1\" class=\"dataframe\">\n",
       "  <thead>\n",
       "    <tr style=\"text-align: right;\">\n",
       "      <th></th>\n",
       "      <th>rf_feature_importance</th>\n",
       "    </tr>\n",
       "    <tr>\n",
       "      <th>feature_name</th>\n",
       "      <th></th>\n",
       "    </tr>\n",
       "  </thead>\n",
       "  <tbody>\n",
       "    <tr>\n",
       "      <td>trips_in_first_30_days</td>\n",
       "      <td>0.078970</td>\n",
       "    </tr>\n",
       "    <tr>\n",
       "      <td>avg_rating_of_driver</td>\n",
       "      <td>0.081074</td>\n",
       "    </tr>\n",
       "    <tr>\n",
       "      <td>avg_surge</td>\n",
       "      <td>0.067207</td>\n",
       "    </tr>\n",
       "    <tr>\n",
       "      <td>surge_pct</td>\n",
       "      <td>0.079242</td>\n",
       "    </tr>\n",
       "    <tr>\n",
       "      <td>ultimate_black_user</td>\n",
       "      <td>0.032435</td>\n",
       "    </tr>\n",
       "    <tr>\n",
       "      <td>weekday_pct</td>\n",
       "      <td>0.129559</td>\n",
       "    </tr>\n",
       "    <tr>\n",
       "      <td>avg_dist</td>\n",
       "      <td>0.294312</td>\n",
       "    </tr>\n",
       "    <tr>\n",
       "      <td>avg_rating_by_driver</td>\n",
       "      <td>0.116710</td>\n",
       "    </tr>\n",
       "    <tr>\n",
       "      <td>city_Astapor</td>\n",
       "      <td>0.016326</td>\n",
       "    </tr>\n",
       "    <tr>\n",
       "      <td>city_King's Landing</td>\n",
       "      <td>0.051434</td>\n",
       "    </tr>\n",
       "    <tr>\n",
       "      <td>city_Winterfell</td>\n",
       "      <td>0.011218</td>\n",
       "    </tr>\n",
       "    <tr>\n",
       "      <td>Android</td>\n",
       "      <td>0.020667</td>\n",
       "    </tr>\n",
       "    <tr>\n",
       "      <td>iPhone</td>\n",
       "      <td>0.020847</td>\n",
       "    </tr>\n",
       "  </tbody>\n",
       "</table>\n",
       "</div>"
      ],
      "text/plain": [
       "                        rf_feature_importance\n",
       "feature_name                                 \n",
       "trips_in_first_30_days               0.078970\n",
       "avg_rating_of_driver                 0.081074\n",
       "avg_surge                            0.067207\n",
       "surge_pct                            0.079242\n",
       "ultimate_black_user                  0.032435\n",
       "weekday_pct                          0.129559\n",
       "avg_dist                             0.294312\n",
       "avg_rating_by_driver                 0.116710\n",
       "city_Astapor                         0.016326\n",
       "city_King's Landing                  0.051434\n",
       "city_Winterfell                      0.011218\n",
       "Android                              0.020667\n",
       "iPhone                               0.020847"
      ]
     },
     "execution_count": 72,
     "metadata": {},
     "output_type": "execute_result"
    }
   ],
   "source": [
    "rf_feature_importance"
   ]
  },
  {
   "cell_type": "code",
   "execution_count": 73,
   "metadata": {},
   "outputs": [],
   "source": [
    "features_combined = pd.concat([logreg_feature_importance, svm_feature_importance, \n",
    "                              gbc_feature_importance, rf_feature_importance], axis=1)"
   ]
  },
  {
   "cell_type": "code",
   "execution_count": 74,
   "metadata": {},
   "outputs": [
    {
     "data": {
      "text/html": [
       "<div>\n",
       "<style scoped>\n",
       "    .dataframe tbody tr th:only-of-type {\n",
       "        vertical-align: middle;\n",
       "    }\n",
       "\n",
       "    .dataframe tbody tr th {\n",
       "        vertical-align: top;\n",
       "    }\n",
       "\n",
       "    .dataframe thead th {\n",
       "        text-align: right;\n",
       "    }\n",
       "</style>\n",
       "<table border=\"1\" class=\"dataframe\">\n",
       "  <thead>\n",
       "    <tr style=\"text-align: right;\">\n",
       "      <th></th>\n",
       "      <th>logreg_feature_importance</th>\n",
       "      <th>svm_feature_importance</th>\n",
       "      <th>gbc_feature_importance</th>\n",
       "      <th>rf_feature_importance</th>\n",
       "    </tr>\n",
       "    <tr>\n",
       "      <th>feature_name</th>\n",
       "      <th></th>\n",
       "      <th></th>\n",
       "      <th></th>\n",
       "      <th></th>\n",
       "    </tr>\n",
       "  </thead>\n",
       "  <tbody>\n",
       "    <tr>\n",
       "      <td>trips_in_first_30_days</td>\n",
       "      <td>0.124165</td>\n",
       "      <td>0.044131</td>\n",
       "      <td>0.034058</td>\n",
       "      <td>0.078970</td>\n",
       "    </tr>\n",
       "    <tr>\n",
       "      <td>avg_rating_of_driver</td>\n",
       "      <td>-0.054438</td>\n",
       "      <td>-0.019762</td>\n",
       "      <td>0.011321</td>\n",
       "      <td>0.081074</td>\n",
       "    </tr>\n",
       "    <tr>\n",
       "      <td>avg_surge</td>\n",
       "      <td>-0.110466</td>\n",
       "      <td>-0.077337</td>\n",
       "      <td>0.005534</td>\n",
       "      <td>0.067207</td>\n",
       "    </tr>\n",
       "    <tr>\n",
       "      <td>surge_pct</td>\n",
       "      <td>0.003073</td>\n",
       "      <td>0.014267</td>\n",
       "      <td>0.177857</td>\n",
       "      <td>0.079242</td>\n",
       "    </tr>\n",
       "    <tr>\n",
       "      <td>ultimate_black_user</td>\n",
       "      <td>0.837178</td>\n",
       "      <td>0.306796</td>\n",
       "      <td>0.072817</td>\n",
       "      <td>0.032435</td>\n",
       "    </tr>\n",
       "    <tr>\n",
       "      <td>weekday_pct</td>\n",
       "      <td>0.000714</td>\n",
       "      <td>0.014792</td>\n",
       "      <td>0.139006</td>\n",
       "      <td>0.129559</td>\n",
       "    </tr>\n",
       "    <tr>\n",
       "      <td>avg_dist</td>\n",
       "      <td>-0.035756</td>\n",
       "      <td>-0.011995</td>\n",
       "      <td>0.017028</td>\n",
       "      <td>0.294312</td>\n",
       "    </tr>\n",
       "    <tr>\n",
       "      <td>avg_rating_by_driver</td>\n",
       "      <td>-0.164554</td>\n",
       "      <td>-0.027576</td>\n",
       "      <td>0.250625</td>\n",
       "      <td>0.116710</td>\n",
       "    </tr>\n",
       "    <tr>\n",
       "      <td>city_Astapor</td>\n",
       "      <td>-0.741422</td>\n",
       "      <td>-0.348508</td>\n",
       "      <td>0.029627</td>\n",
       "      <td>0.016326</td>\n",
       "    </tr>\n",
       "    <tr>\n",
       "      <td>city_King's Landing</td>\n",
       "      <td>0.949340</td>\n",
       "      <td>0.344887</td>\n",
       "      <td>0.167701</td>\n",
       "      <td>0.051434</td>\n",
       "    </tr>\n",
       "    <tr>\n",
       "      <td>city_Winterfell</td>\n",
       "      <td>-0.223113</td>\n",
       "      <td>-0.155137</td>\n",
       "      <td>0.000000</td>\n",
       "      <td>0.011218</td>\n",
       "    </tr>\n",
       "    <tr>\n",
       "      <td>Android</td>\n",
       "      <td>-0.559445</td>\n",
       "      <td>-0.266721</td>\n",
       "      <td>0.050276</td>\n",
       "      <td>0.020667</td>\n",
       "    </tr>\n",
       "    <tr>\n",
       "      <td>iPhone</td>\n",
       "      <td>0.544250</td>\n",
       "      <td>0.107963</td>\n",
       "      <td>0.044150</td>\n",
       "      <td>0.020847</td>\n",
       "    </tr>\n",
       "  </tbody>\n",
       "</table>\n",
       "</div>"
      ],
      "text/plain": [
       "                        logreg_feature_importance  svm_feature_importance  \\\n",
       "feature_name                                                                \n",
       "trips_in_first_30_days                   0.124165                0.044131   \n",
       "avg_rating_of_driver                    -0.054438               -0.019762   \n",
       "avg_surge                               -0.110466               -0.077337   \n",
       "surge_pct                                0.003073                0.014267   \n",
       "ultimate_black_user                      0.837178                0.306796   \n",
       "weekday_pct                              0.000714                0.014792   \n",
       "avg_dist                                -0.035756               -0.011995   \n",
       "avg_rating_by_driver                    -0.164554               -0.027576   \n",
       "city_Astapor                            -0.741422               -0.348508   \n",
       "city_King's Landing                      0.949340                0.344887   \n",
       "city_Winterfell                         -0.223113               -0.155137   \n",
       "Android                                 -0.559445               -0.266721   \n",
       "iPhone                                   0.544250                0.107963   \n",
       "\n",
       "                        gbc_feature_importance  rf_feature_importance  \n",
       "feature_name                                                           \n",
       "trips_in_first_30_days                0.034058               0.078970  \n",
       "avg_rating_of_driver                  0.011321               0.081074  \n",
       "avg_surge                             0.005534               0.067207  \n",
       "surge_pct                             0.177857               0.079242  \n",
       "ultimate_black_user                   0.072817               0.032435  \n",
       "weekday_pct                           0.139006               0.129559  \n",
       "avg_dist                              0.017028               0.294312  \n",
       "avg_rating_by_driver                  0.250625               0.116710  \n",
       "city_Astapor                          0.029627               0.016326  \n",
       "city_King's Landing                   0.167701               0.051434  \n",
       "city_Winterfell                       0.000000               0.011218  \n",
       "Android                               0.050276               0.020667  \n",
       "iPhone                                0.044150               0.020847  "
      ]
     },
     "execution_count": 74,
     "metadata": {},
     "output_type": "execute_result"
    }
   ],
   "source": [
    "features_combined"
   ]
  },
  {
   "cell_type": "code",
   "execution_count": 75,
   "metadata": {},
   "outputs": [
    {
     "data": {
      "text/plain": [
       "<matplotlib.axes._subplots.AxesSubplot at 0x12c59c240>"
      ]
     },
     "execution_count": 75,
     "metadata": {},
     "output_type": "execute_result"
    },
    {
     "data": {
      "image/png": "[encoded data removed]",
      "text/plain": [
       "<Figure size 432x288 with 1 Axes>"
      ]
     },
     "metadata": {
      "needs_background": "light"
     },
     "output_type": "display_data"
    }
   ],
   "source": [
    "features_combined.plot.bar()"
   ]
  },
  {
   "cell_type": "markdown",
   "metadata": {},
   "source": [
    "##### Answer 3a: 36.62% of riders were retained (i.e. made a trip in the last 30 days).\n",
    "\n",
    "##### Answer 3b: I used five models: logistic regression, KNN, Linear SVM, Gradient Boosting Classifier and Random Forest Classifier. I chose these because they allow an examination of the contribution of each feature to the prediction. I used accuracy to get a good sense of how my model was doing. Based on accuracy score, gradient boosting classifier performed the best followed by random forest classifier, which was further corroborated by confusion matrices.\n",
    "\n",
    "##### Answer 3c: Now that we chose a model, Ultimate can use this to increase their retainment rate. The riders that were classified as negative could be provided attractive offers in order to retain them. As shown in the above plot (combined features), King's Landing was the only city with more retention than lost compared to other two cities. So Ultimate can now focus on other two cities more. Furthermore it looks like there are more iPhone users than Android, so Ultimate can further investigate the reason, which could be the performance of app for iPhone vs Android."
   ]
  },
  {
   "cell_type": "code",
   "execution_count": null,
   "metadata": {},
   "outputs": [],
   "source": []
  }
 ],
 "metadata": {
  "kernelspec": {
   "display_name": "Python 3",
   "language": "python",
   "name": "python3"
  },
  "language_info": {
   "codemirror_mode": {
    "name": "ipython",
    "version": 3
   },
   "file_extension": ".py",
   "mimetype": "text/x-python",
   "name": "python",
   "nbconvert_exporter": "python",
   "pygments_lexer": "ipython3",
   "version": "3.7.1"
  }
 },
 "nbformat": 4,
 "nbformat_minor": 2
}
